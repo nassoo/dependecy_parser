{
 "cells": [
  {
   "cell_type": "markdown",
   "metadata": {},
   "source": [
    "# Dependency parser\n",
    "## Atanas Atanasov"
   ]
  },
  {
   "cell_type": "markdown",
   "metadata": {},
   "source": [
    "**Table of contents**<a id='toc0_'></a>    \n",
    "- [Abstract](#toc2_2_)    \n",
    "- [Prerequisites](#toc2_3_)    \n",
    "- [Introduction](#toc2_4_)    \n",
    "  - [Linguistic background](#toc2_4_1_)    \n",
    "  - [Universal Dependencies](#toc2_4_2_)    \n",
    "  - [Dependency parsing background](#toc2_4_3_)    \n",
    "  - [Deep Biaffine Attention](#toc2_4_4_)    \n",
    "- [Data preparation](#toc2_5_)    \n",
    "  - [Load data](#toc2_5_1_)    \n",
    "  - [Build vocabularies](#toc2_5_2_)    \n",
    "  - [Configuration](#toc2_5_3_)    \n",
    "  - [Data Vectorization](#toc2_5_4_)    \n",
    "- [The Model](#toc2_6_)    \n",
    "  - [Batching and Shuffling the Datasets](#toc2_6_1_)    \n",
    "  - [Model Architecture](#toc2_6_2_)    \n",
    "  - [Model Implementation](#toc2_6_3_)    \n",
    "  - [Setup and Training](#toc2_6_4_)    \n",
    "- [Experiments and Results](#toc2_7_)    \n",
    "- [Predictions](#toc2_8_)    \n",
    "    - [Tokenization](#toc2_8_1_1_)    \n",
    "    - [Text to CoNLL-U](#toc2_8_1_2_)    \n",
    "    - [Visualization](#toc2_8_1_3_)    \n",
    "    - [Demo](#toc2_8_1_4_)    \n",
    "- [Future Work](#toc2_9_)    \n",
    "- [Conclusion](#toc2_10_)    \n",
    "- [References](#toc2_11_)    \n",
    "\n",
    "<!-- vscode-jupyter-toc-config\n",
    "\tnumbering=false\n",
    "\tanchor=true\n",
    "\tflat=false\n",
    "\tminLevel=1\n",
    "\tmaxLevel=6\n",
    "\t/vscode-jupyter-toc-config -->\n",
    "<!-- THIS CELL WILL BE REPLACED ON TOC UPDATE. DO NOT WRITE YOUR TEXT IN THIS CELL -->"
   ]
  },
  {
   "cell_type": "markdown",
   "metadata": {},
   "source": [
    "## <a id='toc2_2_'></a>[Abstract](#toc0_)"
   ]
  },
  {
   "cell_type": "markdown",
   "metadata": {},
   "source": [
    "The paper explores the implementation of a Biaffine Attention Model, a sophisticated neural network architecture used for dependency parsing tasks. This model, proposed by Dozat and Manning, is applied in the context of Bulgarian language processing. Training and evaluation of the model are conducted using the Bulgarian Universal Dependencies dataset. The paper provides an in-depth explanation of the model's architecture and the data preparation process. The results of the experiments are then presented and discussed. The paper concludes with a discussion on the model's performance and suggestions for potential future work."
   ]
  },
  {
   "cell_type": "markdown",
   "metadata": {},
   "source": [
    "## <a id='toc2_3_'></a>[Prerequisites](#toc0_)"
   ]
  },
  {
   "cell_type": "markdown",
   "metadata": {},
   "source": [
    "This notebook, written in Python 3.11, has been tested on WSL2 Ubuntu 22.04.3 LTS. The required packages are listed in the [requirements.txt](./requirements.txt) file. Also [environment.yml](./environment.yml) is provided for convenience[<sup>*</sup>](#note-1).\n",
    "\n",
    "---\n",
    "<small><a id=\"note-1\"></a><sup>*</sup> Note that the virtual environment includes packages not directly used in this notebook, such as PyTorch and Transformers, which are for side experiments. If disk space is limited, consider manually installing only the necessary packages.<small>"
   ]
  },
  {
   "cell_type": "markdown",
   "metadata": {},
   "source": [
    "Below are the packages imported for use in this notebook:"
   ]
  },
  {
   "cell_type": "code",
   "execution_count": 1,
   "metadata": {},
   "outputs": [],
   "source": [
    "%matplotlib inline\n",
    "%load_ext tensorboard"
   ]
  },
  {
   "cell_type": "code",
   "execution_count": 2,
   "metadata": {},
   "outputs": [
    {
     "name": "stderr",
     "output_type": "stream",
     "text": [
      "2024-04-17 17:48:53.015248: E external/local_xla/xla/stream_executor/cuda/cuda_dnn.cc:9261] Unable to register cuDNN factory: Attempting to register factory for plugin cuDNN when one has already been registered\n",
      "2024-04-17 17:48:53.015310: E external/local_xla/xla/stream_executor/cuda/cuda_fft.cc:607] Unable to register cuFFT factory: Attempting to register factory for plugin cuFFT when one has already been registered\n",
      "2024-04-17 17:48:53.063334: E external/local_xla/xla/stream_executor/cuda/cuda_blas.cc:1515] Unable to register cuBLAS factory: Attempting to register factory for plugin cuBLAS when one has already been registered\n",
      "2024-04-17 17:48:53.178162: I tensorflow/core/platform/cpu_feature_guard.cc:182] This TensorFlow binary is optimized to use available CPU instructions in performance-critical operations.\n",
      "To enable the following instructions: AVX2 FMA, in other operations, rebuild TensorFlow with the appropriate compiler flags.\n",
      "2024-04-17 17:48:54.308646: W tensorflow/compiler/tf2tensorrt/utils/py_utils.cc:38] TF-TRT Warning: Could not find TensorRT\n"
     ]
    }
   ],
   "source": [
    "import datetime\n",
    "import json\n",
    "\n",
    "import classla\n",
    "import mlflow\n",
    "import tensorflow as tf\n",
    "import tensorflow_datasets as tfds\n",
    "from mlflow.tensorflow import MLflowCallback\n",
    "from spacy import displacy\n",
    "from tensorboard.plugins.hparams import api as hp\n",
    "from tensorflow.keras.callbacks import Callback, TensorBoard\n",
    "from tensorflow.keras.layers import (\n",
    "    LSTM,\n",
    "    Bidirectional,\n",
    "    Dense,\n",
    "    Dropout,\n",
    "    Embedding,\n",
    "    Input,\n",
    ")\n",
    "from tensorflow.keras.models import Model, load_model\n",
    "from tensorflow.keras.utils import plot_model\n",
    "\n",
    "from transformers import BertTokenizerFast, BertModel"
   ]
  },
  {
   "cell_type": "markdown",
   "metadata": {},
   "source": [
    "The next cell checks if a GPU is available for TensorFlow to use and enables memory growth for the GPU. This can be useful to avoid using all of the GPU memory."
   ]
  },
  {
   "cell_type": "code",
   "execution_count": 3,
   "metadata": {},
   "outputs": [
    {
     "name": "stdout",
     "output_type": "stream",
     "text": [
      "GPU is available\n"
     ]
    },
    {
     "name": "stderr",
     "output_type": "stream",
     "text": [
      "2024-04-17 17:48:59.539527: I external/local_xla/xla/stream_executor/cuda/cuda_executor.cc:887] could not open file to read NUMA node: /sys/bus/pci/devices/0000:01:00.0/numa_node\n",
      "Your kernel may have been built without NUMA support.\n",
      "2024-04-17 17:48:59.544546: I external/local_xla/xla/stream_executor/cuda/cuda_executor.cc:887] could not open file to read NUMA node: /sys/bus/pci/devices/0000:01:00.0/numa_node\n",
      "Your kernel may have been built without NUMA support.\n",
      "2024-04-17 17:48:59.544578: I external/local_xla/xla/stream_executor/cuda/cuda_executor.cc:887] could not open file to read NUMA node: /sys/bus/pci/devices/0000:01:00.0/numa_node\n",
      "Your kernel may have been built without NUMA support.\n"
     ]
    }
   ],
   "source": [
    "if tf.config.list_physical_devices(\"GPU\"):\n",
    "    tf.config.experimental.set_memory_growth(tf.config.list_physical_devices()[1], True)\n",
    "    print(\"GPU is available\")\n",
    "else:\n",
    "    print(\"GPU is not available\")"
   ]
  },
  {
   "cell_type": "markdown",
   "metadata": {},
   "source": [
    "## <a id='toc2_4_'></a>[Introduction](#toc0_)\n"
   ]
  },
  {
   "cell_type": "markdown",
   "metadata": {},
   "source": [
    "This paper aims to implement a neural network-based dependency parser using TensorFlow and Keras. The parser will be trained and evaluated on the Bulgarian Universal Dependencies dataset."
   ]
  },
  {
   "cell_type": "markdown",
   "metadata": {},
   "source": [
    "### <a id='toc2_4_1_'></a>[Linguistic background](#toc0_)\n",
    "From a linguistic perspective, Generative Grammar (GG) and Dependency Grammar (DG) have emerged as the two primary approaches to syntax study over the past few decades[<sup>*</sup>](#note-2). GG is a grammar model that operates on the premise that a sentence's syntactic structure is generated by a set of rules. These rules are applied to a set of terminal nodes, which are the words (or potentially empty functional categories) of the sentence. The rules are recursively applied until the sentence is parsed into its smallest constituents. The result of constituency parsing is a tree, known as a constituency parse tree, which represents the sentence's syntactic structure.\n",
    "\n",
    "On the other hand, DG is a grammar model that posits that a sentence's syntactic structure is represented by a set of dependencies between the sentence's words. These dependencies are directed links between the words of the sentence and are represented by a tree, known as a dependency parse tree. The nodes of the dependency parse tree are the words of the sentence, and the edges (arcs) represent the dependencies between the words. The dependency parse tree has a root node, typically the main verb (predicate) of the sentence. This root node has no incoming edges but can have multiple outgoing edges. The dependency parse tree is a directed acyclic graph (DAG), meaning there are no cycles in the graph and only one path exists between any two nodes in the tree.\n",
    "\n",
    "In recent decades, Generative Grammar (GG) has been the preferred approach for representing syntactic structures in most linguistic studies. However, due to advancements in Natural Language Processing (NLP), particularly the Universal Dependencies (UD) project and deep learning models based on it, DG is gaining popularity. The primary advantage of DG lies in its simplicity and intuitiveness, despite GG's greater expressiveness.  \n",
    "\n",
    "---\n",
    "<small><a id=\"note-2\"></a><sup>*</sup> In fact, the concept behind the dependency approach dates back several thousand years. However, it wasn't until the 20th century that it was formalized and evolved into a comprehensive theory.<small>"
   ]
  },
  {
   "cell_type": "markdown",
   "metadata": {},
   "source": [
    "### <a id='toc2_4_2_'></a>[Universal Dependencies](#toc0_)"
   ]
  },
  {
   "cell_type": "markdown",
   "metadata": {},
   "source": [
    "<a href=\"https://universaldependencies.org\">Universal Dependencies</a> (UD) is a framework for consistent annotation of grammar (parts of speech, morphological features, and syntactic dependencies) across different languages. It is an open community effort with over 200 contributors producing more than 100 treebanks in over 70 languages.\n",
    "\n",
    "The goal of UD is to enable multilingual parser development, cross-lingual learning, and parsing research from a language typology perspective. It is a highly influential resource in the field of Natural Language Processing (NLP).\n",
    "\n",
    "The UD project provides a set of universal guidelines that aim to be applicable to all languages, along with language-specific extensions. The guidelines cover annotation at the word level (morphology) and the sentence level (syntax).\n",
    "\n",
    "The UD treebanks, which are collections of annotated sentences, are a valuable resource for training and evaluating NLP models, such as part-of-speech taggers and dependency parsers."
   ]
  },
  {
   "cell_type": "markdown",
   "metadata": {},
   "source": [
    "### <a id='toc2_4_3_'></a>[Dependency parsing background](#toc0_)\n",
    "There are two main approaches to dependency parsing: transition-based and graph-based. The transition-based (shift-reduce) approach is a greedy algorithm that builds a dependency tree by applying a sequence of actions to a partially built tree. They maintain a stack and a buffer of words to be processed. The parsing process starts with all words in the buffer and an empty stack. The parser can perform three types of actions: 'SHIFT' (moves a word from the buffer to the stack); 'REDUCE' (removes a word from the stack); 'ARC' (creates a dependency relation between two words, one from the stack and one from the buffer). The parser makes these actions based on a set of features extracted from the current state of the stack and buffer, and the previously built dependency relations. The process continues until the buffer is empty and all words have been incorporated into the dependency tree. This parsers do not use deep learning algorithms for direct prediction of dependencies, instead they use it to predict the next action to be taken.\n",
    "  \n",
    "Graph-based parsers, on the other hand, work by considering all possible dependency trees for a sentence and choosing the one with the highest score. The score of a tree is typically computed as the sum of the scores of its individual dependencies. The scoring function is learned from a treebank during training. The learning process involves finding weights for the features of the dependencies such that the correct trees in the training data get higher scores than incorrect trees.  \n",
    "  \n",
    "Transition-based parsers are generally more efficient, as they parse a sentence in linear time. This makes them suitable for real-time applications or large-scale data processing. However, these parsers suffer from error propagation. The decisions are made greedily, and once a parsing action is taken, it cannot be undone. This means that an error early in the parsing process can affect the rest of the parse. Graph-based parsers often achieve higher accuracy than transition-based parsers. They globally optimize the parse tree of a sentence, considering all possible trees before making a decision. However, this global optimization comes at a cost. Graph-based parsers have a higher time complexity (usually cubic in the length of the sentence), making them slower than transition-based parsers."
   ]
  },
  {
   "cell_type": "markdown",
   "metadata": {},
   "source": [
    "### <a id='toc2_4_4_'></a>[Deep Biaffine Attention](#toc0_)\n",
    "This notebook implements a graph-based dependency parser, based on the algorithm proposed by <a href=\"https://openreview.net/forum?id=Hk95PK9le\">Dozat and Manning (2017)</a>[<sup>1</sup>](#ref-1). Their architecture leverages a bi-LSTM (Bidirectional Long Short-Term Memory) that reads the input sentence from both directions, capturing a rich set of syntactic and semantic features. Additionally, the authors introduce a biaffine attention mechanism, a bilinear function with an added affine transformation. Instead of using shallow bilinear attention, which operates directly on recurrent state representations, deep biaffine attention employs a multi-layer perceptron (MLP) to project these representations into a higher-dimensional space before applying the bilinear attention function. This allows the model to capture more complex relationships between words and their potential dependencies.  \n",
    "  \n",
    "The parser proposed here is trained and evaluated on the Bulgarian UD treebank."
   ]
  },
  {
   "cell_type": "markdown",
   "metadata": {},
   "source": [
    "## <a id='toc2_5_'></a>[Data preparation](#toc0_)\n"
   ]
  },
  {
   "cell_type": "markdown",
   "metadata": {},
   "source": [
    "The UD treebanks come in various formats, including CoNLL-U (a format used for linguistic treebanks in the Conference on Natural Language Learning), TensorFlow Datasets (TFDS), and HuggingFace Datasets. Given that this project uses TensorFlow, TFDS is the most convenient format. The treebanks are always split into training, development, and test sets."
   ]
  },
  {
   "cell_type": "markdown",
   "metadata": {},
   "source": [
    "### <a id='toc2_5_1_'></a>[Load data](#toc0_)\n"
   ]
  },
  {
   "cell_type": "markdown",
   "metadata": {},
   "source": [
    "The three subsets of the Bulgarian UD treebank will be loaded from TFDS, along with the dataset information necessary for predictions."
   ]
  },
  {
   "cell_type": "code",
   "execution_count": 4,
   "metadata": {},
   "outputs": [
    {
     "name": "stderr",
     "output_type": "stream",
     "text": [
      "2024-04-17 17:49:06.842665: I external/local_xla/xla/stream_executor/cuda/cuda_executor.cc:887] could not open file to read NUMA node: /sys/bus/pci/devices/0000:01:00.0/numa_node\n",
      "Your kernel may have been built without NUMA support.\n",
      "2024-04-17 17:49:06.842742: I external/local_xla/xla/stream_executor/cuda/cuda_executor.cc:887] could not open file to read NUMA node: /sys/bus/pci/devices/0000:01:00.0/numa_node\n",
      "Your kernel may have been built without NUMA support.\n",
      "2024-04-17 17:49:06.842762: I external/local_xla/xla/stream_executor/cuda/cuda_executor.cc:887] could not open file to read NUMA node: /sys/bus/pci/devices/0000:01:00.0/numa_node\n",
      "Your kernel may have been built without NUMA support.\n",
      "2024-04-17 17:49:07.133384: I external/local_xla/xla/stream_executor/cuda/cuda_executor.cc:887] could not open file to read NUMA node: /sys/bus/pci/devices/0000:01:00.0/numa_node\n",
      "Your kernel may have been built without NUMA support.\n",
      "2024-04-17 17:49:07.133429: I external/local_xla/xla/stream_executor/cuda/cuda_executor.cc:887] could not open file to read NUMA node: /sys/bus/pci/devices/0000:01:00.0/numa_node\n",
      "Your kernel may have been built without NUMA support.\n",
      "2024-04-17 17:49:07.133438: I tensorflow/core/common_runtime/gpu/gpu_device.cc:2022] Could not identify NUMA node of platform GPU id 0, defaulting to 0.  Your kernel may not have been built with NUMA support.\n",
      "2024-04-17 17:49:07.133464: I external/local_xla/xla/stream_executor/cuda/cuda_executor.cc:887] could not open file to read NUMA node: /sys/bus/pci/devices/0000:01:00.0/numa_node\n",
      "Your kernel may have been built without NUMA support.\n",
      "2024-04-17 17:49:07.133482: I tensorflow/core/common_runtime/gpu/gpu_device.cc:1929] Created device /job:localhost/replica:0/task:0/device:GPU:0 with 21472 MB memory:  -> device: 0, name: NVIDIA GeForce RTX 4090, pci bus id: 0000:01:00.0, compute capability: 8.9\n"
     ]
    }
   ],
   "source": [
    "(bg_btb_train, bg_btb_dev, bg_btb_test), info = tfds.load(\n",
    "    \"universal_dependencies/bg_btb\", split=[\"train\", \"dev\", \"test\"], with_info=True\n",
    ")"
   ]
  },
  {
   "cell_type": "code",
   "execution_count": 5,
   "metadata": {},
   "outputs": [
    {
     "data": {
      "text/plain": [
       "(8907, 1115, 1116)"
      ]
     },
     "execution_count": 5,
     "metadata": {},
     "output_type": "execute_result"
    }
   ],
   "source": [
    "len(bg_btb_train), len(bg_btb_dev), len(bg_btb_test)"
   ]
  },
  {
   "cell_type": "markdown",
   "metadata": {},
   "source": [
    "The dataset includes 8907 training sentences, 1115 development sentences, and 1116 test sentences. This distribution corresponds to approximately 80% of the data for training, 10% for validation, and 10% for testing. This is a typical distribution for UD treebanks and is suitable for developing a neural network parser, so no additional splitting is required."
   ]
  },
  {
   "cell_type": "markdown",
   "metadata": {},
   "source": [
    "Before processing the data, let's examine a few sentences to understand the dataset's structure. Here is the specification of the dataset's elements:"
   ]
  },
  {
   "cell_type": "code",
   "execution_count": 6,
   "metadata": {},
   "outputs": [
    {
     "data": {
      "text/plain": [
       "{'deprel': TensorSpec(shape=(None,), dtype=tf.string, name=None),\n",
       " 'deps': TensorSpec(shape=(None,), dtype=tf.string, name=None),\n",
       " 'feats': TensorSpec(shape=(None,), dtype=tf.string, name=None),\n",
       " 'head': TensorSpec(shape=(None,), dtype=tf.string, name=None),\n",
       " 'idx': TensorSpec(shape=(), dtype=tf.string, name=None),\n",
       " 'lemmas': TensorSpec(shape=(None,), dtype=tf.string, name=None),\n",
       " 'misc': TensorSpec(shape=(None,), dtype=tf.string, name=None),\n",
       " 'text': TensorSpec(shape=(), dtype=tf.string, name=None),\n",
       " 'tokens': TensorSpec(shape=(None,), dtype=tf.string, name=None),\n",
       " 'upos': TensorSpec(shape=(None,), dtype=tf.int64, name=None),\n",
       " 'xpos': TensorSpec(shape=(None,), dtype=tf.string, name=None)}"
      ]
     },
     "execution_count": 6,
     "metadata": {},
     "output_type": "execute_result"
    }
   ],
   "source": [
    "bg_btb_train.element_spec"
   ]
  },
  {
   "cell_type": "markdown",
   "metadata": {},
   "source": [
    "All columns have a dtype of tf.string, except for 'upos', which is tf.int64. These columns need careful examination and conversion to the appropriate format before model training. Displaying the first few rows in a table will help understand the data structure."
   ]
  },
  {
   "cell_type": "code",
   "execution_count": 7,
   "metadata": {},
   "outputs": [
    {
     "name": "stderr",
     "output_type": "stream",
     "text": [
      "2024-04-17 17:49:11.315410: W tensorflow/core/kernels/data/cache_dataset_ops.cc:858] The calling iterator did not fully read the dataset being cached. In order to avoid unexpected truncation of the dataset, the partially cached contents of the dataset  will be discarded. This can happen if you have an input pipeline similar to `dataset.cache().take(k).repeat()`. You should use `dataset.take(k).cache().repeat()` instead.\n"
     ]
    },
    {
     "data": {
      "text/html": [
       "<style type=\"text/css\">\n",
       "</style>\n",
       "<table id=\"T_c75a6\">\n",
       "  <thead>\n",
       "    <tr>\n",
       "      <th class=\"blank level0\" >&nbsp;</th>\n",
       "      <th id=\"T_c75a6_level0_col0\" class=\"col_heading level0 col0\" >deprel</th>\n",
       "      <th id=\"T_c75a6_level0_col1\" class=\"col_heading level0 col1\" >deps</th>\n",
       "      <th id=\"T_c75a6_level0_col2\" class=\"col_heading level0 col2\" >feats</th>\n",
       "      <th id=\"T_c75a6_level0_col3\" class=\"col_heading level0 col3\" >head</th>\n",
       "      <th id=\"T_c75a6_level0_col4\" class=\"col_heading level0 col4\" >idx</th>\n",
       "      <th id=\"T_c75a6_level0_col5\" class=\"col_heading level0 col5\" >lemmas</th>\n",
       "      <th id=\"T_c75a6_level0_col6\" class=\"col_heading level0 col6\" >misc</th>\n",
       "      <th id=\"T_c75a6_level0_col7\" class=\"col_heading level0 col7\" >text</th>\n",
       "      <th id=\"T_c75a6_level0_col8\" class=\"col_heading level0 col8\" >tokens</th>\n",
       "      <th id=\"T_c75a6_level0_col9\" class=\"col_heading level0 col9\" >upos</th>\n",
       "      <th id=\"T_c75a6_level0_col10\" class=\"col_heading level0 col10\" >xpos</th>\n",
       "    </tr>\n",
       "  </thead>\n",
       "  <tbody>\n",
       "    <tr>\n",
       "      <th id=\"T_c75a6_level0_row0\" class=\"row_heading level0 row0\" >0</th>\n",
       "      <td id=\"T_c75a6_row0_col0\" class=\"data row0 col0\" ><div style=\"overflow-y: scroll; max-height: 300px;\" >nsubj<br/>root<br/>case<br/>amod<br/>obl<br/>case<br/>amod<br/>...</div></td>\n",
       "      <td id=\"T_c75a6_row0_col1\" class=\"data row0 col1\" ><div style=\"overflow-y: scroll; max-height: 300px;\" >[(&#x27;nsubj&#x27;, 2)]<br/>[(&#x27;root&#x27;, 0)]<br/>[(&#x27;case&#x27;, 5)]<br/>[(&#x27;amod&#x27;, 5)]<br/>[(&#x27;obl:със&#x27;, 2)]<br/>[(&#x27;case&#x27;, 8)]<br/>[(&#x27;amod&#x27;, 8)]<br/>...</div></td>\n",
       "      <td id=\"T_c75a6_row0_col2\" class=\"data row0 col2\" ><div style=\"overflow-y: scroll; max-height: 300px;\" >{&#x27;Definite&#x27;: &#x27;Def&#x27;, &#x27;Gender&#x27;: &#x27;Neut&#x27;, &#x27;Number&#x27;: &#x27;Sing&#x27;}<br/>{&#x27;Aspect&#x27;: &#x27;Imp&#x27;, &#x27;Mood&#x27;: &#x27;Ind&#x27;, &#x27;Number&#x27;: &#x27;Sing&#x27;, &#x27;Person&#x27;: &#x27;3&#x27;, &#x27;Tense&#x27;: &#x27;Pres&#x27;, &#x27;VerbForm&#x27;: &#x27;Fin&#x27;, &#x27;Voice&#x27;: &#x27;Act&#x27;}<br/>None<br/>{&#x27;Definite&#x27;: &#x27;Def&#x27;, &#x27;Degree&#x27;: &#x27;Pos&#x27;, &#x27;Gender&#x27;: &#x27;Fem&#x27;, &#x27;Number&#x27;: &#x27;Sing&#x27;}<br/>{&#x27;Definite&#x27;: &#x27;Ind&#x27;, &#x27;Gender&#x27;: &#x27;Fem&#x27;, &#x27;Number&#x27;: &#x27;Sing&#x27;}<br/>None<br/>{&#x27;Definite&#x27;: &#x27;Def&#x27;, &#x27;Degree&#x27;: &#x27;Pos&#x27;, &#x27;Gender&#x27;: &#x27;Masc&#x27;, &#x27;Number&#x27;: &#x27;Sing&#x27;}<br/>...</div></td>\n",
       "      <td id=\"T_c75a6_row0_col3\" class=\"data row0 col3\" ><div style=\"overflow-y: scroll; max-height: 300px;\" >2<br/>0<br/>5<br/>5<br/>2<br/>8<br/>8<br/>...</div></td>\n",
       "      <td id=\"T_c75a6_row0_col4\" class=\"data row0 col4\" >random2-s483</td>\n",
       "      <td id=\"T_c75a6_row0_col5\" class=\"data row0 col5\" ><div style=\"overflow-y: scroll; max-height: 300px;\" >заседание<br/>продължавам<br/>със<br/>същ<br/>точка<br/>от<br/>дневен<br/>...</div></td>\n",
       "      <td id=\"T_c75a6_row0_col6\" class=\"data row0 col6\" ><div style=\"overflow-y: scroll; max-height: 300px;\" >None<br/>None<br/>None<br/>None<br/>None<br/>None<br/>None<br/>...</div></td>\n",
       "      <td id=\"T_c75a6_row0_col7\" class=\"data row0 col7\" >Заседанието продължава със същата точка от дневния ред.</td>\n",
       "      <td id=\"T_c75a6_row0_col8\" class=\"data row0 col8\" ><div style=\"overflow-y: scroll; max-height: 300px;\" >Заседанието<br/>продължава<br/>със<br/>същата<br/>точка<br/>от<br/>дневния<br/>...</div></td>\n",
       "      <td id=\"T_c75a6_row0_col9\" class=\"data row0 col9\" ><div style=\"overflow-y: scroll; max-height: 300px;\" >7 (NOUN)<br/>15 (VERB)<br/>1 (ADP)<br/>0 (ADJ)<br/>7 (NOUN)<br/>1 (ADP)<br/>0 (ADJ)<br/>...</div></td>\n",
       "      <td id=\"T_c75a6_row0_col10\" class=\"data row0 col10\" ><div style=\"overflow-y: scroll; max-height: 300px;\" >Ncnsd<br/>Vpitf-r3s<br/>R<br/>Afsd<br/>Ncfsi<br/>R<br/>Amsh<br/>...</div></td>\n",
       "    </tr>\n",
       "    <tr>\n",
       "      <th id=\"T_c75a6_level0_row1\" class=\"row_heading level0 row1\" >1</th>\n",
       "      <td id=\"T_c75a6_row1_col0\" class=\"data row1 col0\" ><div style=\"overflow-y: scroll; max-height: 300px;\" >discourse<br/>advmod<br/>advmod<br/>iobj<br/>expl<br/>root<br/>aux<br/>...</div></td>\n",
       "      <td id=\"T_c75a6_row1_col1\" class=\"data row1 col1\" ><div style=\"overflow-y: scroll; max-height: 300px;\" >[(&#x27;discourse&#x27;, 6)]<br/>[(&#x27;advmod&#x27;, 6)]<br/>[(&#x27;advmod&#x27;, 6)]<br/>[(&#x27;iobj&#x27;, 6)]<br/>[(&#x27;expl&#x27;, 6)]<br/>[(&#x27;root&#x27;, 0)]<br/>[(&#x27;aux&#x27;, 8)]<br/>...</div></td>\n",
       "      <td id=\"T_c75a6_row1_col2\" class=\"data row1 col2\" ><div style=\"overflow-y: scroll; max-height: 300px;\" >None<br/>{&#x27;Definite&#x27;: &#x27;Ind&#x27;, &#x27;Degree&#x27;: &#x27;Pos&#x27;, &#x27;Number&#x27;: &#x27;Plur&#x27;, &#x27;NumType&#x27;: &#x27;Card&#x27;}<br/>{&#x27;Polarity&#x27;: &#x27;Neg&#x27;}<br/>{&#x27;Case&#x27;: &#x27;Dat&#x27;, &#x27;Number&#x27;: &#x27;Sing&#x27;, &#x27;Person&#x27;: &#x27;1&#x27;, &#x27;PronType&#x27;: &#x27;Prs&#x27;}<br/>{&#x27;Case&#x27;: &#x27;Acc&#x27;, &#x27;PronType&#x27;: &#x27;Prs&#x27;, &#x27;Reflex&#x27;: &#x27;Yes&#x27;}<br/>{&#x27;Aspect&#x27;: &#x27;Perf&#x27;, &#x27;Mood&#x27;: &#x27;Ind&#x27;, &#x27;Number&#x27;: &#x27;Sing&#x27;, &#x27;Person&#x27;: &#x27;3&#x27;, &#x27;Tense&#x27;: &#x27;Pres&#x27;, &#x27;VerbForm&#x27;: &#x27;Fin&#x27;, &#x27;Voice&#x27;: &#x27;Act&#x27;}<br/>None<br/>...</div></td>\n",
       "      <td id=\"T_c75a6_row1_col3\" class=\"data row1 col3\" ><div style=\"overflow-y: scroll; max-height: 300px;\" >6<br/>6<br/>6<br/>6<br/>6<br/>0<br/>8<br/>...</div></td>\n",
       "      <td id=\"T_c75a6_row1_col4\" class=\"data row1 col4\" >random2-s108</td>\n",
       "      <td id=\"T_c75a6_row1_col5\" class=\"data row1 col5\" ><div style=\"overflow-y: scroll; max-height: 300px;\" >дано<br/>повече<br/>не<br/>аз<br/>се<br/>наложа-(се)<br/>да<br/>...</div></td>\n",
       "      <td id=\"T_c75a6_row1_col6\" class=\"data row1 col6\" ><div style=\"overflow-y: scroll; max-height: 300px;\" >None<br/>None<br/>None<br/>None<br/>None<br/>None<br/>None<br/>...</div></td>\n",
       "      <td id=\"T_c75a6_row1_col7\" class=\"data row1 col7\" >Дано повече не ми се наложи да защитавам правото си на глас, като си бръсна главата или сека телевизори с брадва.</td>\n",
       "      <td id=\"T_c75a6_row1_col8\" class=\"data row1 col8\" ><div style=\"overflow-y: scroll; max-height: 300px;\" >Дано<br/>повече<br/>не<br/>ми<br/>се<br/>наложи<br/>да<br/>...</div></td>\n",
       "      <td id=\"T_c75a6_row1_col9\" class=\"data row1 col9\" ><div style=\"overflow-y: scroll; max-height: 300px;\" >9 (PART)<br/>2 (ADV)<br/>9 (PART)<br/>10 (PRON)<br/>10 (PRON)<br/>15 (VERB)<br/>3 (AUX)<br/>...</div></td>\n",
       "      <td id=\"T_c75a6_row1_col10\" class=\"data row1 col10\" ><div style=\"overflow-y: scroll; max-height: 300px;\" >Tm<br/>Md--i<br/>Tn<br/>Ppetds1<br/>Ppxta<br/>Vpptf-r3s<br/>Tx<br/>...</div></td>\n",
       "    </tr>\n",
       "  </tbody>\n",
       "</table>\n"
      ],
      "text/plain": [
       "                                              deprel  \\\n",
       "0  [b'nsubj', b'root', b'case', b'amod', b'obl', ...   \n",
       "1  [b'discourse', b'advmod', b'advmod', b'iobj', ...   \n",
       "\n",
       "                                                deps  \\\n",
       "0  [b\"[('nsubj', 2)]\", b\"[('root', 0)]\", b\"[('cas...   \n",
       "1  [b\"[('discourse', 6)]\", b\"[('advmod', 6)]\", b\"...   \n",
       "\n",
       "                                               feats  \\\n",
       "0  [b\"{'Definite': 'Def', 'Gender': 'Neut', 'Numb...   \n",
       "1  [b'None', b\"{'Definite': 'Ind', 'Degree': 'Pos...   \n",
       "\n",
       "                                                head              idx  \\\n",
       "0  [b'2', b'0', b'5', b'5', b'2', b'8', b'8', b'5...  b'random2-s483'   \n",
       "1  [b'6', b'6', b'6', b'6', b'6', b'0', b'8', b'6...  b'random2-s108'   \n",
       "\n",
       "                                              lemmas  \\\n",
       "0  [b'\\xd0\\xb7\\xd0\\xb0\\xd1\\x81\\xd0\\xb5\\xd0\\xb4\\xd...   \n",
       "1  [b'\\xd0\\xb4\\xd0\\xb0\\xd0\\xbd\\xd0\\xbe', b'\\xd0\\x...   \n",
       "\n",
       "                                                misc  \\\n",
       "0  [b'None', b'None', b'None', b'None', b'None', ...   \n",
       "1  [b'None', b'None', b'None', b'None', b'None', ...   \n",
       "\n",
       "                                                text  \\\n",
       "0  b'\\xd0\\x97\\xd0\\xb0\\xd1\\x81\\xd0\\xb5\\xd0\\xb4\\xd0...   \n",
       "1  b'\\xd0\\x94\\xd0\\xb0\\xd0\\xbd\\xd0\\xbe \\xd0\\xbf\\xd...   \n",
       "\n",
       "                                              tokens  \\\n",
       "0  [b'\\xd0\\x97\\xd0\\xb0\\xd1\\x81\\xd0\\xb5\\xd0\\xb4\\xd...   \n",
       "1  [b'\\xd0\\x94\\xd0\\xb0\\xd0\\xbd\\xd0\\xbe', b'\\xd0\\x...   \n",
       "\n",
       "                                                upos  \\\n",
       "0                      [7, 15, 1, 0, 7, 1, 0, 7, 12]   \n",
       "1  [9, 2, 9, 10, 10, 15, 3, 15, 7, 10, 1, 7, 12, ...   \n",
       "\n",
       "                                                xpos  \n",
       "0  [b'Ncnsd', b'Vpitf-r3s', b'R', b'Afsd', b'Ncfs...  \n",
       "1  [b'Tm', b'Md--i', b'Tn', b'Ppetds1', b'Ppxta',...  "
      ]
     },
     "execution_count": 7,
     "metadata": {},
     "output_type": "execute_result"
    }
   ],
   "source": [
    "tfds.as_dataframe(bg_btb_train.take(2), info)"
   ]
  },
  {
   "cell_type": "markdown",
   "metadata": {},
   "source": [
    "In the dependency parser, only certain columns are used. The `tokens` column, with the tokenized sentence, and the `upos` column, with Universal Part-of-Speech tags, train the parser. The `deprel` column, with dependency relations, and the `head` column, indicating word head indices, serve as the parser's targets."
   ]
  },
  {
   "cell_type": "markdown",
   "metadata": {},
   "source": [
    "The other columns are not used in this project, but they contain valuable information for other NLP tasks, such as lemmatization, morphological analysis, and named entity recognition. Here is a brief description of each of them: \n",
    "- `deps` column is used for additional dependency relations in enhanced dependency graph representations. It's basically a combination of deprel, head, and (eventually) tokens columns.\n",
    "- `feats` column contains morphological features of the words.\n",
    "- `idx` column is the index of the sentence.\n",
    "- `lemmas` contains the lemmatized forms of the words.\n",
    "- `misc` column is used for any miscellaneous information that doesn't fit into the other columns.\n",
    "- `text` column contains the original (row) sentence.\n",
    "- `xpos` column contains the language-specific part-of-speech tags. These tags can provide more detailed grammatical information than the universal tags, but they are not consistent across languages."
   ]
  },
  {
   "cell_type": "markdown",
   "metadata": {},
   "source": [
    "### <a id='toc2_5_2_'></a>[Build vocabularies](#toc0_)\n"
   ]
  },
  {
   "cell_type": "markdown",
   "metadata": {},
   "source": [
    "Now that the data is loaded, the next step is to build the vocabularies. This sets of unique words, Universal Part-of-Speech tags, and dependency relations from the training set will be converted into numerical representations for the model to process. The vocabulary helps convert words and tags into these representations, while the dependency relations are used to construct the target vectors for the parser."
   ]
  },
  {
   "cell_type": "markdown",
   "metadata": {},
   "source": [
    "The following function is designed to extract the unique values from a dataset column and return them as a list:"
   ]
  },
  {
   "cell_type": "code",
   "execution_count": 8,
   "metadata": {},
   "outputs": [],
   "source": [
    "def get_unique_values(dataset, key):\n",
    "    unique = tf.unique(tf.concat([t for t in dataset.map(lambda x: x[key])], axis=0)).y\n",
    "    return unique.numpy().tolist()"
   ]
  },
  {
   "cell_type": "markdown",
   "metadata": {},
   "source": [
    "Next, the `get_hash_tables` function is created to build vocabularies for words, Universal Part-of-Speech tags, and dependency relations. It uses `get_unique` to extract unique values from the dataset and creates a hash table for efficient mapping of these values to their numerical representations. While a Python dictionary is often used for this purpose, TensorFlow's hash table is more efficient for handling TensorFlow tensors.  \n",
    "\n",
    "The function begins by adding special tokens `<PAD>`, `<ROOT>`, and `<UNK>` to the vocabularies. `<PAD>` is used to equalize input sequence lengths, `<ROOT>` represents the root of the dependency parse tree (the dummy token that governs the main verb of the sentence), and `<UNK>` represents unknown words, tags, or relations.  \n",
    "\n",
    "Two hash tables are created: `id2label_table` and `label2id_table`. The `id2label_table` maps IDs to labels, and the `label2id_table` maps labels to IDs. These tables are used to convert between numerical IDs and their corresponding labels during training and prediction."
   ]
  },
  {
   "cell_type": "code",
   "execution_count": 9,
   "metadata": {},
   "outputs": [],
   "source": [
    "def get_hash_tables(dataset, key):\n",
    "    unique = get_unique_values(dataset, key)\n",
    "\n",
    "    t_dtype = dataset.element_spec[key].dtype\n",
    "    pad, root, unk = (\"<PAD>\", \"<ROOT>\", \"<UNK>\") if t_dtype == tf.string else (0, 1, 2)\n",
    "\n",
    "    ds_dict = {0: pad, 1: root, 2: unk}\n",
    "    ds_dict.update({i + 3: l for i, l in enumerate(unique)})\n",
    "    id2label_table = tf.lookup.StaticHashTable(\n",
    "        initializer=tf.lookup.KeyValueTensorInitializer(\n",
    "            keys=tf.constant(list(ds_dict.keys())),\n",
    "            values=tf.constant(list(ds_dict.values())),\n",
    "        ),\n",
    "        default_value=tf.constant(ds_dict[2]),\n",
    "        name=\"class_weight\",\n",
    "    )\n",
    "\n",
    "    reverse_ds_dict = {l: i for i, l in ds_dict.items()}\n",
    "    label2id_table = tf.lookup.StaticHashTable(\n",
    "        initializer=tf.lookup.KeyValueTensorInitializer(\n",
    "            keys=tf.constant(list(reverse_ds_dict.keys())),\n",
    "            values=tf.constant(list(reverse_ds_dict.values())),\n",
    "        ),\n",
    "        default_value=tf.constant(2),\n",
    "        name=\"reverse_class_weight\",\n",
    "    )\n",
    "\n",
    "    return id2label_table, label2id_table"
   ]
  },
  {
   "cell_type": "markdown",
   "metadata": {},
   "source": [
    "The function is now used to build vocabularies for words, Universal Part-of-Speech tags, and dependency relations. Since the `head` column only contains indices (the head of a word is the word that governs its syntactic function), it doesn't require a vocabulary. The `head` indices are later converted to numeric values, as they are in tensors of type tf.string, but no mapping is needed for them."
   ]
  },
  {
   "cell_type": "code",
   "execution_count": 10,
   "metadata": {},
   "outputs": [],
   "source": [
    "id2token, token2id = get_hash_tables(bg_btb_train, \"tokens\")"
   ]
  },
  {
   "cell_type": "code",
   "execution_count": 11,
   "metadata": {},
   "outputs": [],
   "source": [
    "id2deprel, deprel2id = get_hash_tables(bg_btb_train, \"deprel\")"
   ]
  },
  {
   "cell_type": "code",
   "execution_count": 12,
   "metadata": {},
   "outputs": [],
   "source": [
    "id2upos, upos2id = get_hash_tables(bg_btb_train, \"upos\")"
   ]
  },
  {
   "cell_type": "code",
   "execution_count": 13,
   "metadata": {},
   "outputs": [],
   "source": [
    "id2lemma, lemma2id = get_hash_tables(bg_btb_train, \"lemmas\")"
   ]
  },
  {
   "cell_type": "code",
   "execution_count": 14,
   "metadata": {},
   "outputs": [],
   "source": [
    "id2xpos, xpos2id = get_hash_tables(bg_btb_train, \"xpos\")"
   ]
  },
  {
   "cell_type": "markdown",
   "metadata": {},
   "source": [
    "With the vocabularies built, they can now map values to their numerical representations:"
   ]
  },
  {
   "cell_type": "code",
   "execution_count": 15,
   "metadata": {},
   "outputs": [
    {
     "data": {
      "text/plain": [
       "<tf.Tensor: shape=(), dtype=int32, numpy=334>"
      ]
     },
     "execution_count": 15,
     "metadata": {},
     "output_type": "execute_result"
    }
   ],
   "source": [
    "token2id[tf.constant('съм')]"
   ]
  },
  {
   "cell_type": "code",
   "execution_count": 16,
   "metadata": {},
   "outputs": [
    {
     "data": {
      "text/plain": [
       "334"
      ]
     },
     "execution_count": 16,
     "metadata": {},
     "output_type": "execute_result"
    }
   ],
   "source": [
    "token2id.lookup(tf.constant('съм')).numpy()"
   ]
  },
  {
   "cell_type": "code",
   "execution_count": 17,
   "metadata": {},
   "outputs": [
    {
     "data": {
      "text/plain": [
       "47"
      ]
     },
     "execution_count": 17,
     "metadata": {},
     "output_type": "execute_result"
    }
   ],
   "source": [
    "lemma2id.lookup(tf.constant('съм')).numpy()"
   ]
  },
  {
   "cell_type": "markdown",
   "metadata": {},
   "source": [
    "or vice versa:"
   ]
  },
  {
   "cell_type": "code",
   "execution_count": 18,
   "metadata": {},
   "outputs": [
    {
     "data": {
      "text/plain": [
       "<tf.Tensor: shape=(6,), dtype=string, numpy=\n",
       "array([b'<PAD>', b'<ROOT>', b'<UNK>', b'nsubj', b'root', b'case'],\n",
       "      dtype=object)>"
      ]
     },
     "execution_count": 18,
     "metadata": {},
     "output_type": "execute_result"
    }
   ],
   "source": [
    "id2deprel[tf.constant([0, 1, 2, 3, 4, 5])]"
   ]
  },
  {
   "cell_type": "code",
   "execution_count": 19,
   "metadata": {},
   "outputs": [
    {
     "data": {
      "text/plain": [
       "<tf.Tensor: shape=(6,), dtype=string, numpy=\n",
       "array([b'<PAD>', b'<ROOT>', b'<UNK>', b'nsubj', b'root', b'case'],\n",
       "      dtype=object)>"
      ]
     },
     "execution_count": 19,
     "metadata": {},
     "output_type": "execute_result"
    }
   ],
   "source": [
    "id2deprel.lookup(tf.constant([0, 1, 2, 3, 4, 5]))"
   ]
  },
  {
   "cell_type": "code",
   "execution_count": 20,
   "metadata": {},
   "outputs": [
    {
     "data": {
      "text/plain": [
       "array([b'<PAD>', b'<ROOT>', b'<UNK>',\n",
       "       b'\\xd0\\xb7\\xd0\\xb0\\xd1\\x81\\xd0\\xb5\\xd0\\xb4\\xd0\\xb0\\xd0\\xbd\\xd0\\xb8\\xd0\\xb5',\n",
       "       b'\\xd0\\xbf\\xd1\\x80\\xd0\\xbe\\xd0\\xb4\\xd1\\x8a\\xd0\\xbb\\xd0\\xb6\\xd0\\xb0\\xd0\\xb2\\xd0\\xb0\\xd0\\xbc',\n",
       "       b'\\xd1\\x81\\xd1\\x8a\\xd1\\x81'], dtype=object)"
      ]
     },
     "execution_count": 20,
     "metadata": {},
     "output_type": "execute_result"
    }
   ],
   "source": [
    "id2lemma.lookup(tf.constant([0, 1, 2, 3, 4, 5])).numpy()"
   ]
  },
  {
   "cell_type": "markdown",
   "metadata": {},
   "source": [
    "Finally, the `upos` values, given as tf.int64, need to be mapped to their actual labels. These labels are necessary for predicting and presenting sentence syntax analysis and can be obtained from the dataset's `info`."
   ]
  },
  {
   "cell_type": "code",
   "execution_count": 21,
   "metadata": {},
   "outputs": [],
   "source": [
    "upos_keys = tf.constant(list(range(len(info.features[\"upos\"].names))), dtype=tf.int32)\n",
    "# <tf.Tensor: shape=(18,), dtype=int32, numpy=array([ 0,  1,  2,  3,  4,  5,  6,  7,  8,  9, 10, 11, 12, 13, 14, 15, 16, 17], dtype=int32)>\n",
    "upos_vals = tf.constant(info.features[\"upos\"].names)\n",
    "# <tf.Tensor: shape=(18,), dtype=string, numpy=array([b'ADJ', b'ADP', b'ADV', b'AUX', b'CCONJ', b'DET', ...], dtype=object)>\n",
    "\n",
    "upos2str = tf.lookup.StaticHashTable(\n",
    "    tf.lookup.KeyValueTensorInitializer(upos_keys, upos_vals), default_value=\"_\"\n",
    ")\n",
    "str2upos = tf.lookup.StaticHashTable(\n",
    "    tf.lookup.KeyValueTensorInitializer(upos_vals, upos_keys), default_value=-1\n",
    ")"
   ]
  },
  {
   "cell_type": "markdown",
   "metadata": {},
   "source": [
    "### <a id='toc2_5_3_'></a>[Configuration](#toc0_)"
   ]
  },
  {
   "cell_type": "markdown",
   "metadata": {},
   "source": [
    "The `Config` class plays a crucial role in this project. It establishes the configuration parameters for the model, including hyperparameters sourced from a [JSON file](./config.json), and the sizes of hash tables that represent the total number of unique tokens, UPOS tags, and dependency relations in the dataset. While the majority of its parameters pertain to the model itself, it must be loaded at this stage because the vectorization of the data, performed in the subsequent chapter, utilizes it.\n",
    "\n",
    "All this information is stored in the `config` object, which is referenced throughout the notebook for accessing the configuration parameters."
   ]
  },
  {
   "cell_type": "code",
   "execution_count": 25,
   "metadata": {},
   "outputs": [],
   "source": [
    "class Config:\n",
    "    def __init__(self, token2id, upos2id, deprel2id, lemma2id, xpos2id, json_file_path):\n",
    "        with open(json_file_path, 'r') as file:\n",
    "            config_data = json.load(file)\n",
    "\n",
    "        self.tokens_size = token2id.size().numpy()\n",
    "        self.upos_size = upos2id.size().numpy()\n",
    "        self.deprel_size = deprel2id.size().numpy()\n",
    "        self.lemmas_size = lemma2id.size().numpy()\n",
    "        self.xpos_size = xpos2id.size().numpy()\n",
    "        \n",
    "        self.__dict__.update(config_data)\n",
    "\n",
    "    def get_config(self):\n",
    "        config = {\n",
    "            'tokens_size': self.tokens_size,\n",
    "            'upos_size': self.upos_size,\n",
    "            'deprel_size': self.deprel_size,\n",
    "            'lemmas_size': self.lemmas_size,\n",
    "            'xpos_size': self.xpos_size\n",
    "        }\n",
    "        config.update(self.__dict__)\n",
    "        return config\n",
    "\n",
    "    @classmethod\n",
    "    def from_config(cls, config):\n",
    "        return cls(**config)"
   ]
  },
  {
   "cell_type": "code",
   "execution_count": 26,
   "metadata": {},
   "outputs": [],
   "source": [
    "config = Config(token2id, upos2id, deprel2id, lemma2id, xpos2id, 'config.json')"
   ]
  },
  {
   "cell_type": "code",
   "execution_count": 27,
   "metadata": {},
   "outputs": [
    {
     "data": {
      "text/plain": [
       "{'tokens_size': 25050,\n",
       " 'upos_size': 16,\n",
       " 'deprel_size': 38,\n",
       " 'lemmas_size': 13296,\n",
       " 'xpos_size': 539,\n",
       " 'embedding_size': 100,\n",
       " 'embedding_dropout': 0.5,\n",
       " 'lstm_size': 400,\n",
       " 'lstm_dropout': 0.5,\n",
       " 'arc_mlt_size': 500,\n",
       " 'arc_mlt_dropout': 0.5,\n",
       " 'label_mlt_size': 100,\n",
       " 'label_mlt_dropout': 0.5,\n",
       " 'lstm_depth': 3,\n",
       " 'mlt_depth': 1,\n",
       " 'learning_rate': 0.002,\n",
       " 'adam_beta_1': 0.9,\n",
       " 'adam_beta_2': 0.9,\n",
       " 'annealing_factor': 0.075,\n",
       " 'annealing_steps': 2000,\n",
       " 'batch_size': 128,\n",
       " 'padding_size': 128,\n",
       " 'num_epochs': 80}"
      ]
     },
     "execution_count": 27,
     "metadata": {},
     "output_type": "execute_result"
    }
   ],
   "source": [
    "vars(config)"
   ]
  },
  {
   "cell_type": "markdown",
   "metadata": {},
   "source": [
    "### <a id='toc2_5_4_'></a>[Data Vectorization](#toc0_)"
   ]
  },
  {
   "cell_type": "markdown",
   "metadata": {},
   "source": [
    "This chapter describes the process of vectorization, which converts the dataset into a format that the neural network can process.\n",
    "\n",
    "The `vectorize_dataset` function is central to this process. It takes a dataset as input and returns a new dataset where each element is a tuple of **inputs** and **outputs**.\n",
    "\n",
    "The `tokens`, `upos`, and `deprel` values are encoded as integers using the corresponding hash tables. The `heads` values are simply cast to numbers. All sequences are padded to ensure uniform length. The `sentences_len` variable represents the length of each sentence, including an extra token for the root of the dependency parse tree.\n",
    "\n",
    "The **inputs** in the returned dataset are the vectorized `tokens` and `upos` values, along with `sentences_len`. The **outputs** are the vectorized `heads` and `deprel` values.\n",
    "\n",
    "The `encode_values` function encodes the `tokens`, `upos`, and `deprel` values. If the values are of type `tf.int64`, they are cast to `tf.int32` before encoding, because of `tf.lookup.StaticHashTable` requirements. Each sequence is prepended with a dummy value to represent the root of the dependency parse tree.\n",
    "\n",
    "The `apply_padding` function ensures all sequences have the same length, padding or truncating sequences to a maximum length of 128 tokens.\n",
    "\n",
    "Finally, the `tf.data.Dataset.from_tensor_slices` function generates a new dataset from the vectorized inputs and outputs. This dataset, ready for batching, can be used for model training or prediction."
   ]
  },
  {
   "cell_type": "code",
   "execution_count": 28,
   "metadata": {},
   "outputs": [],
   "source": [
    "def encode_values(dataset, key, hash_table, dummy_value):\n",
    "    if dataset.element_spec[key].dtype == tf.int64:\n",
    "        return dataset.map(\n",
    "            lambda x: tf.concat([tf.constant([dummy_value]), hash_table[tf.cast(x[key], tf.int32)]], axis=0))\n",
    "    return dataset.map(\n",
    "        lambda x: tf.concat([tf.constant([dummy_value]), hash_table[x[key]]], axis=0))\n",
    "\n",
    "def apply_padding(tensor, max_length=config.padding_size):\n",
    "    return tf.keras.utils.pad_sequences(\n",
    "        tensor, maxlen=max_length, padding=\"post\", truncating=\"post\"\n",
    "    )\n",
    "\n",
    "def vectorize_dataset(dataset):\n",
    "    tokens = apply_padding(encode_values(dataset, \"tokens\", token2id, 1))\n",
    "    upos = apply_padding(encode_values(dataset, \"upos\", upos2id, 1))\n",
    "    lemmas = apply_padding(encode_values(dataset, \"lemmas\", lemma2id, 1))\n",
    "    xpos = apply_padding(encode_values(dataset, \"xpos\", xpos2id, 1))\n",
    "    sentences_len = tf.constant([x[\"tokens\"].shape[0] + 1 for x in dataset])\n",
    "    deprel = apply_padding(encode_values(dataset, \"deprel\", deprel2id, 1))\n",
    "    heads = apply_padding(dataset.map(lambda x: tf.concat(\n",
    "                [tf.constant([0]), tf.strings.to_number(x[\"head\"], tf.int32)], axis=0)))\n",
    "\n",
    "    inputs = (tokens, upos, lemmas, xpos, sentences_len)\n",
    "    outputs = (heads, deprel)\n",
    "\n",
    "    return tf.data.Dataset.from_tensor_slices((inputs, outputs))"
   ]
  },
  {
   "cell_type": "code",
   "execution_count": 29,
   "metadata": {},
   "outputs": [],
   "source": [
    "train_dataset = vectorize_dataset(bg_btb_train)"
   ]
  },
  {
   "cell_type": "code",
   "execution_count": 30,
   "metadata": {},
   "outputs": [],
   "source": [
    "dev_dataset = vectorize_dataset(bg_btb_dev)"
   ]
  },
  {
   "cell_type": "code",
   "execution_count": 31,
   "metadata": {},
   "outputs": [],
   "source": [
    "test_dataset = vectorize_dataset(bg_btb_test)"
   ]
  },
  {
   "cell_type": "code",
   "execution_count": 32,
   "metadata": {},
   "outputs": [
    {
     "name": "stdout",
     "output_type": "stream",
     "text": [
      "((array([    1,     2,  2425,  2445,   385,  1403,    22,  1090,    58,\n",
      "       17366, 10595,   163,    11,     0,     0,     0,     0,     0,\n",
      "           0,     0,     0,     0,     0,     0,     0,     0,     0,\n",
      "           0,     0,     0,     0,     0,     0,     0,     0,     0,\n",
      "           0,     0,     0,     0,     0,     0,     0,     0,     0,\n",
      "           0,     0,     0,     0,     0,     0,     0,     0,     0,\n",
      "           0,     0,     0,     0,     0,     0,     0,     0,     0,\n",
      "           0,     0,     0,     0,     0,     0,     0,     0,     0,\n",
      "           0,     0,     0,     0,     0,     0,     0,     0,     0,\n",
      "           0,     0,     0,     0,     0,     0,     0,     0,     0,\n",
      "           0,     0,     0,     0,     0,     0,     0,     0,     0,\n",
      "           0,     0,     0,     0,     0,     0,     0,     0,     0,\n",
      "           0,     0,     0,     0,     0,     0,     0,     0,     0,\n",
      "           0,     0,     0,     0,     0,     0,     0,     0,     0,\n",
      "           0,     0], dtype=int32), array([ 1,  6,  3,  4,  5,  3,  5,  3, 13,  6,  6,  3,  7,  0,  0,  0,  0,\n",
      "        0,  0,  0,  0,  0,  0,  0,  0,  0,  0,  0,  0,  0,  0,  0,  0,  0,\n",
      "        0,  0,  0,  0,  0,  0,  0,  0,  0,  0,  0,  0,  0,  0,  0,  0,  0,\n",
      "        0,  0,  0,  0,  0,  0,  0,  0,  0,  0,  0,  0,  0,  0,  0,  0,  0,\n",
      "        0,  0,  0,  0,  0,  0,  0,  0,  0,  0,  0,  0,  0,  0,  0,  0,  0,\n",
      "        0,  0,  0,  0,  0,  0,  0,  0,  0,  0,  0,  0,  0,  0,  0,  0,  0,\n",
      "        0,  0,  0,  0,  0,  0,  0,  0,  0,  0,  0,  0,  0,  0,  0,  0,  0,\n",
      "        0,  0,  0,  0,  0,  0,  0,  0,  0], dtype=int32), array([   1, 6105, 1893, 1906,  342,  398,   22,  923,   57,  370, 2692,\n",
      "        153,   11,    0,    0,    0,    0,    0,    0,    0,    0,    0,\n",
      "          0,    0,    0,    0,    0,    0,    0,    0,    0,    0,    0,\n",
      "          0,    0,    0,    0,    0,    0,    0,    0,    0,    0,    0,\n",
      "          0,    0,    0,    0,    0,    0,    0,    0,    0,    0,    0,\n",
      "          0,    0,    0,    0,    0,    0,    0,    0,    0,    0,    0,\n",
      "          0,    0,    0,    0,    0,    0,    0,    0,    0,    0,    0,\n",
      "          0,    0,    0,    0,    0,    0,    0,    0,    0,    0,    0,\n",
      "          0,    0,    0,    0,    0,    0,    0,    0,    0,    0,    0,\n",
      "          0,    0,    0,    0,    0,    0,    0,    0,    0,    0,    0,\n",
      "          0,    0,    0,    0,    0,    0,    0,    0,    0,    0,    0,\n",
      "          0,    0,    0,    0,    0,    0,    0], dtype=int32), array([ 1, 35, 30, 41,  5,  3,  5, 22, 23,  8, 26,  9, 10,  0,  0,  0,  0,\n",
      "        0,  0,  0,  0,  0,  0,  0,  0,  0,  0,  0,  0,  0,  0,  0,  0,  0,\n",
      "        0,  0,  0,  0,  0,  0,  0,  0,  0,  0,  0,  0,  0,  0,  0,  0,  0,\n",
      "        0,  0,  0,  0,  0,  0,  0,  0,  0,  0,  0,  0,  0,  0,  0,  0,  0,\n",
      "        0,  0,  0,  0,  0,  0,  0,  0,  0,  0,  0,  0,  0,  0,  0,  0,  0,\n",
      "        0,  0,  0,  0,  0,  0,  0,  0,  0,  0,  0,  0,  0,  0,  0,  0,  0,\n",
      "        0,  0,  0,  0,  0,  0,  0,  0,  0,  0,  0,  0,  0,  0,  0,  0,  0,\n",
      "        0,  0,  0,  0,  0,  0,  0,  0,  0], dtype=int32), 13), (array([ 0,  2,  3,  0,  5,  3,  7,  5, 11, 11, 11,  5,  3,  0,  0,  0,  0,\n",
      "        0,  0,  0,  0,  0,  0,  0,  0,  0,  0,  0,  0,  0,  0,  0,  0,  0,\n",
      "        0,  0,  0,  0,  0,  0,  0,  0,  0,  0,  0,  0,  0,  0,  0,  0,  0,\n",
      "        0,  0,  0,  0,  0,  0,  0,  0,  0,  0,  0,  0,  0,  0,  0,  0,  0,\n",
      "        0,  0,  0,  0,  0,  0,  0,  0,  0,  0,  0,  0,  0,  0,  0,  0,  0,\n",
      "        0,  0,  0,  0,  0,  0,  0,  0,  0,  0,  0,  0,  0,  0,  0,  0,  0,\n",
      "        0,  0,  0,  0,  0,  0,  0,  0,  0,  0,  0,  0,  0,  0,  0,  0,  0,\n",
      "        0,  0,  0,  0,  0,  0,  0,  0,  0], dtype=int32), array([ 1,  6,  3,  4,  5, 12,  5,  8, 20,  6,  6, 21,  9,  0,  0,  0,  0,\n",
      "        0,  0,  0,  0,  0,  0,  0,  0,  0,  0,  0,  0,  0,  0,  0,  0,  0,\n",
      "        0,  0,  0,  0,  0,  0,  0,  0,  0,  0,  0,  0,  0,  0,  0,  0,  0,\n",
      "        0,  0,  0,  0,  0,  0,  0,  0,  0,  0,  0,  0,  0,  0,  0,  0,  0,\n",
      "        0,  0,  0,  0,  0,  0,  0,  0,  0,  0,  0,  0,  0,  0,  0,  0,  0,\n",
      "        0,  0,  0,  0,  0,  0,  0,  0,  0,  0,  0,  0,  0,  0,  0,  0,  0,\n",
      "        0,  0,  0,  0,  0,  0,  0,  0,  0,  0,  0,  0,  0,  0,  0,  0,  0,\n",
      "        0,  0,  0,  0,  0,  0,  0,  0,  0], dtype=int32)))\n"
     ]
    }
   ],
   "source": [
    "first_element = next(test_dataset.take(1).as_numpy_iterator())\n",
    "print(first_element)"
   ]
  },
  {
   "cell_type": "markdown",
   "metadata": {},
   "source": [
    "## <a id='toc2_6_'></a>[The Model](#toc0_)\n"
   ]
  },
  {
   "cell_type": "markdown",
   "metadata": {},
   "source": [
    "This chapter introduces the project's primary neural network model, designed for dependency parsing, a key aspect of natural language understanding.\n",
    "\n",
    "Built with TensorFlow and the Keras API, the model incorporates several components. These include embedding layers for words and POS tags, BiLSTM layers for sentence encoding, and MLP layers for predicting arcs and relations between words. The model also features Biaffine layers, a unique element that enables prediction of arcs and relations between words.\n",
    "\n",
    "The model is equipped with a custom loss function and an Adam optimizer for training. It also includes metrics for tracking the loss and accuracy during training and evaluation.\n",
    "\n",
    "This chapter will explore each model component in detail, explaining their functions and contributions to dependency parsing."
   ]
  },
  {
   "cell_type": "markdown",
   "metadata": {},
   "source": [
    "### <a id='toc2_6_1_'></a>[Batching and Shuffling the Datasets](#toc0_)"
   ]
  },
  {
   "cell_type": "markdown",
   "metadata": {},
   "source": [
    "This code segment batches and shuffles the datasets. The `batch` method groups the dataset into batches of a specified size, as defined in `config`. This is essential for efficient model training, as it allows multiple examples to be processed simultaneously.\n",
    "\n",
    "The `shuffle` method randomizes the order of the examples in the dataset, preventing the model from learning any potential order in the data and improving its ability to generalize.\n",
    "\n",
    "Lastly, the `prefetch` method enables the dataset to fetch batches asynchronously while the model is training, reducing waiting time for data fetching and improving the speed of the training process."
   ]
  },
  {
   "cell_type": "code",
   "execution_count": 33,
   "metadata": {},
   "outputs": [],
   "source": [
    "train_data = train_dataset.shuffle(20000, reshuffle_each_iteration=True)\n",
    "train_data = train_dataset.batch(config.batch_size).prefetch(tf.data.experimental.AUTOTUNE)\n",
    "dev_data = dev_dataset.batch(config.batch_size).prefetch(tf.data.experimental.AUTOTUNE)\n",
    "test_data = test_dataset.batch(config.batch_size).prefetch(tf.data.experimental.AUTOTUNE)"
   ]
  },
  {
   "cell_type": "markdown",
   "metadata": {},
   "source": [
    "The data is now fully prepared for model training."
   ]
  },
  {
   "cell_type": "markdown",
   "metadata": {},
   "source": [
    "### <a id='toc2_6_2_'></a>[Model Architecture](#toc0_)"
   ]
  },
  {
   "cell_type": "markdown",
   "metadata": {},
   "source": [
    "As it was already mentioned, the model is based on the architecture proposed in \"*Deep Biaffine Attention for Neural Dependency Parsing*\" by Dozat and Manning (2017), which builds off the work from Kiperwasser & Goldberg (2016)[<sup>2</sup>](#ref-2) with a few modifications. The graph-based algorithm is illustrated in the following figure:  \n",
    "\n",
    "![Biaffine Attention](./biaffine-attention.png)"
   ]
  },
  {
   "cell_type": "markdown",
   "metadata": {},
   "source": [
    "Dozat and Manning use a larger but more thoroughly regularized parser, with biaffine classifiers to predict arcs and labels. They use biaffine attention instead of bilinear or traditional MLP-based attention; a biaffine dependency label classifier; and apply dimension-reducing MLPs to each recurrent output vector $\\text{r}_i$ before applying the biaffine transformation. The biaffine mechanism is similar to traditional affine classifiers, where the vector of scores $\\text{s}_i$ for all classes equals the weight matrix $\\text{W}$ multiplied by single LSTM output state $\\text{r}_i$ (or other vector input) plus the bias term $\\text{b}$:\n",
    "\n",
    "(1)<a id=\"formula-1\"></a>\n",
    "$$\n",
    "\\text{s}_i = W \\text{r}_i + \\text{b} \n",
    "$$\n",
    "$$\n",
    "\\text{(Fixed-class affine classifier)}\n",
    "$$\n",
    "In the biaffine mechanism, the weight matrix $\\text{W}$ is replaced by a $(d \\times d)$ linear transformation of the stacked LSTM output $RU^{(1)}$ and a $(d \\times d)$ transformation $R\\text{u}^{(2)}$ replaces the bias term $\\text{b}$:\n",
    "\n",
    "(2)<a id=\"formula-2\"></a>\n",
    "$$ \n",
    "\\text{s}_{i}^{(arc)} = \\left(RU^{(1)}\\right) r_i + \\left(R\\text{u}^{(2)}\\right)  \n",
    "$$\n",
    "$$\n",
    "\\text{(Variable-class biaffine classifier)}\n",
    "$$\n",
    "Along with being simpler than the MLP-based approach, this has the conceptual advantage of directly modeling both the prior probability of a word $j$ receiving any dependents in the term $\\text{r}_j^\\intercal \\text{u}^{(2)}$ and the likelihood of $j$ receiving a specific dependent $i$ in the term $\\text{r}_j^\\intercal U^{(1)}\\text{r}_i$.\n",
    "The authors also use a biaffine classifier to predict dependency labels given the gold or predicted head $_{y_i}$:\n",
    "\n",
    "(3)<a id=\"formula-3\"></a>\n",
    "$$ \n",
    "\\text{s}_i^{(label)} = \\text{r}_{y_i}^\\intercal \\text{U}^{(1)} r_i + (r_{y_i} \\otimes r_i)^{\\intercal} U^{(2)} + b \n",
    "$$\n",
    "$$\n",
    "\\text{(Fixed-class biaffine classifier)}\n",
    "$$\n",
    "Dozat and Manning point out that applying smaller MLPs to the recurrent output states before the biaffine classifier has the advantage of stripping away information not relevant to the current decision. Reducing dimensionality and applying a nonlinearity increases parsing speed and decreases the risk of overfitting:\n",
    "\n",
    "(4)<a id=\"formula-4\"></a>\n",
    "$$\n",
    "\\text{h}_i^{(arc-dep)} = \\text{MLP}^{(arc-dep)}(\\text{r}_i)\n",
    "$$\n",
    "(5)<a id=\"formula-5\"></a>\n",
    "$$\n",
    "\\text{h}_j^{(arc-head)} = \\text{MLP}^{(arc-head)}(r_j)\n",
    "$$\n",
    "(6)<a id=\"formula-6\"></a>\n",
    "$$\n",
    "\\text{s}_i^{(arc)} = H^{(arc-head)} U^{(1)} \\text{h}_i^{(arc-dep)} + H^{(arc-head)} \\text{u}^{(2)}\n",
    "$$\n",
    "They call this a *deep* bilinear attention mechanism, as opposed to *shallow* bilinear attention, which uses the recurrent states directly.  \n",
    "MLPs are applied to the recurrent states before using them in the label classifier as well."
   ]
  },
  {
   "cell_type": "markdown",
   "metadata": {},
   "source": [
    "### <a id='toc2_6_3_'></a>Model Implementation[<sup>*</sup>](#note-3) [&#8593;](#toc0_)"
   ]
  },
  {
   "cell_type": "markdown",
   "metadata": {},
   "source": [
    "The `BiaffineLayer` class is a custom TensorFlow layer that implements the biaffine transformation. This class must be defined before the main class, as TensorFlow does not provide a built-in biaffine layer.\n",
    "\n",
    "The `__init__` method initializes a weight matrix with the specified input and output sizes. If `bias_x` or `bias_y` are set to `True`, the input size is incremented by one to accommodate the bias term.\n",
    "\n",
    "The `call` method implements the biaffine transformation, which can be represented by the formulas for $\\text{s}_{i}^{(arc)}$ [(6)](#formula-6) and $\\text{s}_{i}^{(label)}$ [(3)](#formula-3). If `bias_x` or `bias_y` are set to `True`, a column of ones is appended to the input tensors to serve as the bias term. \n",
    "\n",
    "In these formulas, $\\text{s}_{i}^{(arc)}$ and $\\text{s}_{i}^{(label)}$ represent the scores for potential arcs and labels, respectively. In [(6)](#formula-6) $H^{(arc-head)}$ and $\\text{h}_i^{(arc-dep)}$ are the outputs of the MLP layers. $U^{(1)}$ and $\\text{u}^{(2)}$ are the weight matrices of the biaffine transformation. The first term is a bilinear transformation $(H^{(arc-head)} U^{(1)} \\text{h}_i^{(arc-dep)})$ and the second term is a linear transformation $(H^{(arc-head)} \\text{u}^{(2)})$. Here, `input1` and `input2` correspond to $H^{(arc-head)}$ and $\\text{h}_i^{(arc-dep)}$, respectively. The weight matrix `self.w` corresponds to $U^{(1)}$ and $\\text{u}^{(2)}$. The `tf.einsum` function is used to perform the bilinear and linear transformations.\n",
    "\n",
    "In [(3)](#formula-3), $\\text{r}_{y_i}^\\intercal \\text{U}^{(1)} r_i$ is a bilinear transformation of the input vectors, but it includes an additional term $(r_{y_i} \\otimes r_i)^{\\intercal} U^{(2)}$, which is a bilinear transformation of the outer product of the relation and dependent feature vectors. The outer product allows the model to capture interactions between individual elements of the feature vectors. The term `b` in [(3)](#formula-3) is a bias term.\n",
    "\n",
    "These transformations are applied to the inputs `input1` and `input2` in the `call` method using the `tf.einsum` function, which calculates the weighted sum of the input tensors according to the weight matrix. The expression \"bxi,oij,byj->boxy\"[<sup>**</sup>](#note-4) in `tf.einsum` indicates that the function takes two input tensors `input1` and `input2` (represented by \"bxi\" and \"byj\"), applies the weight matrix `self.w` (represented by \"oij\") to them, and returns a tensor of scores (represented by \"boxy\"). The resulting `logits` tensor represents the scores for potential arcs or relations between words in a sentence. \n",
    "\n",
    "These scores are then used to predict the most likely dependency parse tree for the sentence. The `BiaffineLayer` is used twice in the model: once for the arc prediction (`self.arc_logit`), with `bias_x` set to `True` and `bias_y` set to `False`, and once for the label prediction (`self.rel_logit`), with both `bias_x` and `bias_y` set to `True`. This corresponds to the presence of the bias terms in the formulas for $\\text{s}_{i}^{(arc)}$ and $\\text{s}_{i}^{(label)}$.\n",
    "\n",
    "---\n",
    "<small><a id=\"note-3\"></a><sup>*</sup> Several concepts and code segments for this implementation have been inspired by various GitHub repositories[<sup>3</sup>](#ref-3).</small>  \n",
    "<small><a id=\"note-4\"></a><sup>**</sup> The letters indicate the dimensions of the tensors: b - batch_size; x - input1_dim; y - input2_dim; i - feature_size1; j - feature_size2; and o - output_dim.</small>"
   ]
  },
  {
   "cell_type": "code",
   "execution_count": 34,
   "metadata": {},
   "outputs": [],
   "source": [
    "class BiaffineLayer(tf.keras.layers.Layer):\n",
    "    def __init__(self, in_size, out_size, bias_x=False, bias_y=False, **kwargs):\n",
    "        super().__init__(**kwargs)\n",
    "        self.w = self.add_weight(\n",
    "            shape=(out_size, in_size + int(bias_x), in_size + int(bias_y)),\n",
    "            initializer=\"glorot_uniform\",  # Xavier uniform initializer\n",
    "            trainable=True,\n",
    "            name=\"weight\",\n",
    "        )\n",
    "        self.bias_x = bias_x\n",
    "        self.bias_y = bias_y\n",
    "\n",
    "    def call(self, inputs):\n",
    "        input1, input2 = inputs\n",
    "        if self.bias_x:\n",
    "            input1 = tf.concat((input1, tf.ones_like(input1[..., :1])), axis=-1)\n",
    "        if self.bias_y:\n",
    "            input2 = tf.concat((input2, tf.ones_like(input2[..., :1])), axis=-1)\n",
    "        logits = tf.einsum(\"bxi,oij,byj->boxy\", input1, self.w, input2)\n",
    "        return logits"
   ]
  },
  {
   "cell_type": "markdown",
   "metadata": {},
   "source": [
    "The `BiaffineAttentionModel` class is the main component of this dependency parsing system. It implements a neural network model for dependency parsing based on the method proposed by Dozat and Manning. The class is structured as follows:\n",
    "\n",
    "- **Embedding Layers**: These layers convert the input words and POS tags into dense vectors of fixed size. The `word_embedding` layer handles the words, and the `pos_embedding` layer handles the POS tags.\n",
    "\n",
    "- **BiLSTM Layers**: These layers encode the sequence of word embeddings into a sequence of hidden states. The number of layers is determined by `config.lstm_depth`.\n",
    "\n",
    "- **MLP Layers**: These layers are applied to the LSTM output states to prepare for the prediction of the arcs and relations between words in a sentence. There are separate MLPs for preparing the head and dependent of an arc (`dense_layers_arc_head` and `dense_layers_arc_dep`) and for preparing the head and dependent of a relation (`dense_layers_rel_head` and `dense_layers_rel_dep`). This is the dimension reduction step mentioned in the previous section and presented in [(4)](#formula-4) and [(5)](#formula-5).\n",
    "\n",
    "- **Biaffine Layers**: These layers apply a biaffine transformation to the output of the MLP layers to predict the arcs and relations between words in a sentence. The `arc_logit` layer predicts the arcs, and the `rel_logit` layer predicts the relations.\n",
    "\n",
    "- **Loss Function**: The loss function is a sparse categorical cross-entropy loss, which is suitable for multi-class classification problems like this one.\n",
    "\n",
    "- **Optimizer**: The optimizer is an Adam optimizer with a learning rate that decays exponentially.\n",
    "\n",
    "- **Metrics**: The class tracks three metrics: the mean loss, the unlabeled attachment score (UAS), and the labeled attachment score (LAS)."
   ]
  },
  {
   "cell_type": "markdown",
   "metadata": {},
   "source": [
    "The class includes the following **methods**:\n",
    "- `get_config` and `from_config` methods facilitate the saving and loading of the model configuration. They are essential for the model's preservation and restoration."
   ]
  },
  {
   "cell_type": "markdown",
   "metadata": {},
   "source": [
    "- `apply_lstm_layers` method applies a series of LSTM layers to the input tensor `x`. It iterates over the number of LSTM layers specified in `self.config.lstm_depth`. For each iteration, a dropout layer is applied to the input tensor `x` with a dropout rate defined in `self.config.lstm_dropout`. Subsequently, the corresponding BiLSTM layer is applied to the output of the dropout layer. The LSTM layer, a type of recurrent neural network (RNN), is bidirectional in this context, meaning it processes the input sequence in both forward and backward directions."
   ]
  },
  {
   "cell_type": "markdown",
   "metadata": {},
   "source": [
    "- `apply_mlp_layers` method applies a series of Multi-Layer Perceptron (MLP) layers to the input tensor `x`, which is the output of the last LSTM layer. It iterates over the number of MLP layers specified in `self.config.mlp_depth`. For each iteration, it applies a dropout layer to the input tensor `x` with a dropout rate specified by `self.config.arc_mlp_dropout` or `self.config.label_mlp_dropout`. Then, it applies the corresponding MLP (a dense layer with ReLU activation) to the output of the dropout layer. The specific MLP layer applied depends on the `name_prefix` parameter, which corresponds to the layer for arc heads, arc dependents, relation heads, or relation dependents."
   ]
  },
  {
   "cell_type": "markdown",
   "metadata": {},
   "source": [
    "- `call` method performs the forward pass of the model. It accepts a list of two tensors: `input_tokens` and `input_upos`. These tensors are processed through their respective embedding layers, transforming the tags into dense vector representations. Dropout is then applied to both embeddings. \n",
    "\n",
    "    After dropout, the embeddings are concatenated along the last axis and passed through a series of BiLSTM layers, as described in the `apply_lstm_layers` section. The output of these layers is then processed through four separate Multi-Layer Perceptron (MLP) layers to produce `arc_head`, `arc_dep`, `rel_head`, and `rel_dep`. \n",
    "\n",
    "    The `arc_head` and `arc_dep` are processed through a biaffine layer to produce `arc_logit`, which predicts the existence of arcs between words in a sentence. The output is then squeezed to remove the extra dimension. \n",
    "\n",
    "    Similarly, `rel_head` and `rel_dep` are processed through another biaffine layer to produce `rel_logit`, which predicts the type of relation between words. The output is transposed to match the expected input shape of the loss function. \n",
    "\n",
    "    The method returns `arc_logit` and `rel_logit` as output. These outputs represent the model's predictions for the existence of arcs and the type of relations between words in a sentence."
   ]
  },
  {
   "cell_type": "markdown",
   "metadata": {},
   "source": [
    "- `model` method is used to create an instance of a Keras Model. In this project, it is used to present the model summary. For custom models like this one, the `model.summary()` method does not return the complete model architecture."
   ]
  },
  {
   "cell_type": "markdown",
   "metadata": {},
   "source": [
    "- `get_rel_indices` method generates indices for the true arc labels in a batch of sentences. These indices are used to gather the corresponding predicted relation labels from the `rel_logit` tensor. \n",
    "\n",
    "    The `batch_size` represents the number of sentences in the batch, while `seq_len` is the maximum length of the sentences. The method creates `index1`, a 2D tensor of shape `(batch_size, seq_len)`, where each row contains the same value, the index of the row, repeated `seq_len` times. The values range from 0 to `batch_size - 1`. \n",
    "\n",
    "    Similarly, `index2` is a 2D tensor of shape `(batch_size, seq_len)`, where each column contains the same value, the index of the column, repeated `batch_size` times. The values range from 0 to `seq_len - 1`. \n",
    "\n",
    "    The method returns `indices`, a 3D tensor of shape `(batch_size, seq_len, 3)`. The third dimension contains the values from `index1`, `index2`, and `arc_true`. This tensor represents the indices of the true arc labels in the `rel_logit` tensor. \n",
    "\n",
    "    The purpose of this method is to gather the predicted relation labels that correspond to the true arc labels from the `rel_logit` tensor. This is used to calculate the relation loss in the `loss_function` method."
   ]
  },
  {
   "cell_type": "markdown",
   "metadata": {},
   "source": [
    "- `loss_function` calculates a custom loss for the dependency parsing task. It accepts five arguments: `arc_true`, `arc_pred`, `rel_true`, `rel_pred`, and `mask`. Initially, it computes the loss between the true arcs and the predicted arcs, storing the result in `arc_loss` using the loss object defined in the `__init__` method. A similar process is performed for the true and predicted relations, with the result stored in `rel_loss`. \n",
    "\n",
    "    The arc loss and relation loss are then added together, and the first column (corresponding to the padding token) is removed from the loss tensor. The `tf.boolean_mask` function is subsequently used to apply the mask to the loss tensor, effectively eliminating the loss values for the padding tokens. \n",
    "\n",
    "    The method returns the mean of the loss tensor, representing the average loss per example in the batch. This average loss is used during training to update the model's weights."
   ]
  },
  {
   "cell_type": "markdown",
   "metadata": {},
   "source": [
    "- `get_metrics` method calculates the Unlabeled Attachment Score (UAS) and Labeled Attachment Score (LAS), taking the same arguments as the `loss_function`. Initially, `arc_pred` is converted to the most likely predicted arc for each word using the `tf.argmax` function, which identifies the index of the maximum value in its last dimension. The mask is then applied to `arc_pred` and `arc_true` using the `tf.boolean_mask` function, effectively removing the predictions for the padding tokens. \n",
    "\n",
    "    A boolean tensor, `arc_correct`, is created where each element is `True` if the corresponding element in `arc_true` matches the element in `arc_pred`, and `False` otherwise. This process is equivalent to verifying which predicted arcs are correct. The mean of the `arc_correct` tensor is calculated, yielding the Unlabeled Attachment Score (UAS). \n",
    "\n",
    "    Subsequently, `rel_pred` is converted to the most likely predicted relation for each word using the `tf.argmax` function again. The mask is applied to `rel_pred` and `rel_true`, removing the predictions for the padding tokens. The `rel_correct` tensor is created using the `tf.logical_and` function, which checks which predicted relations are correct and also have the correct arc. The mean of the `rel_correct` tensor is calculated, providing the Labeled Attachment Score (LAS). \n",
    "\n",
    "    The method returns the calculated UAS and LAS. These metrics are used during training to monitor the model's performance."
   ]
  },
  {
   "cell_type": "markdown",
   "metadata": {},
   "source": [
    "- `train_step` is used to perform a single step of training on the model, including both the forward pass and the backpropagation (gradient computation and update). It takes as input a tuple of data, the first element of which contains the input words, input part-of-speech tags, and input lengths, and the second contains the input head and input relation. The method is decorated with `tf.function` for performance optimization, which allows TensorFlow to convert the method into a TensorFlow graph for faster execution. The `input_signature` argument specifies the shapes and types of the method's input parameters, enabling TensorFlow to create a more optimized graph. \n",
    "\n",
    "  First, it creates a mask to ignore the padding tokens in the input sequences during the computation of the loss and metrics. Then, it uses the `tf.GradientTape` context to record the operations for automatic differentiation. Inside this context, it calls the model on the input data with `training=True`, running the forward pass of the model and returning the arc and relation logits. It then gathers the relation logits corresponding to the true heads of the words in the sentences using the `tf.gather_nd` function and the `get_rel_indices` method. \n",
    "\n",
    "  The loss is computed using the `loss_function` method. Following this, the backpropagation process begins. It computes the gradients of the loss with respect to the model's trainable variables using the `tape.gradient` method. These gradients represent the rate of change of the loss with respect to the model's parameters. It then clips the gradients to a range of [-2.0, 2.0] to prevent the gradients from exploding, a common issue in deep learning models. \n",
    "\n",
    "  The gradients are then applied to the model's parameters using the optimizer's `apply_gradients` method, effectively updating the model's parameters to minimize the loss. \n",
    "\n",
    "  It computes the Unlabeled Attachment Score (UAS) and Labeled Attachment Score (LAS) using the `get_metrics` method and updates the state of the loss, UAS, and LAS metrics. Finally, it returns a dictionary containing the current values of the loss, UAS, and LAS metrics. This entire process constitutes a single training step."
   ]
  },
  {
   "cell_type": "markdown",
   "metadata": {},
   "source": [
    "- `evaluate` method is used to assess the model's performance on a given dataset. It initializes `UAS` and `LAS` to 0, which will hold the cumulative Unlabeled Attachment Score (UAS) and Labeled Attachment Score (LAS) respectively. A `steps` variable is also initialized to keep track of the number of iterations.\n",
    "\n",
    "    The method then enters a loop over the input data. For each data point, it performs the following actions: \n",
    "\n",
    "    - The model is called with the current input data (word and part-of-speech inputs), with `training` set to `False`. This indicates that the model is in evaluation mode and returns the predicted arc and relation logits. \n",
    "\n",
    "    - The `get_rel_indices` method is used to obtain the indices of the true head words in the sentence. These indices are then used to gather the corresponding predicted relation logits. \n",
    "\n",
    "    - A mask is created for the current input data to ignore the padding tokens. \n",
    "\n",
    "    - The `get_metrics` method is called with the true and predicted arc and relation values, as well as the mask. This returns the UAS and LAS for the current data point. \n",
    "\n",
    "    - The UAS and LAS are added to the cumulative UAS and LAS, and the `steps` variable is incremented.\n",
    "\n",
    "    After the loop, the method returns a dictionary with the average UAS and LAS. These averages are computed by dividing the cumulative UAS and LAS by the number of steps."
   ]
  },
  {
   "cell_type": "code",
   "execution_count": 35,
   "metadata": {},
   "outputs": [],
   "source": [
    "class BiaffineAttentionModel(Model):\n",
    "    def __init__(self, config):\n",
    "        super().__init__()\n",
    "\n",
    "        self.config = config\n",
    "\n",
    "        # Embedding layers\n",
    "        self.word_embedding = Embedding(\n",
    "            self.config.tokens_size,\n",
    "            self.config.embedding_size,\n",
    "            input_length=self.config.padding_size,\n",
    "            name=\"word_embedding\",\n",
    "        )\n",
    "        self.pos_embedding = Embedding(\n",
    "            self.config.upos_size,\n",
    "            self.config.embedding_size,\n",
    "            input_length=self.config.padding_size,\n",
    "            name=\"pos_embedding\",\n",
    "        )\n",
    "        self.lemma_embedding = Embedding(\n",
    "            self.config.lemmas_size,\n",
    "            self.config.embedding_size,\n",
    "            input_length=self.config.padding_size,\n",
    "            name=\"lemma_embedding\",\n",
    "        )\n",
    "        self.xpos_embedding = Embedding(\n",
    "            self.config.xpos_size,\n",
    "            self.config.embedding_size,\n",
    "            input_length=self.config.padding_size,\n",
    "            name=\"xpos_embedding\",\n",
    "        )\n",
    "\n",
    "        # BiLSTM layers\n",
    "        self.bilstms = [\n",
    "            Bidirectional(\n",
    "                LSTM(self.config.lstm_size, return_sequences=True), name=f\"bilstm{i}\"\n",
    "            )\n",
    "            for i in range(self.config.lstm_depth)\n",
    "        ]\n",
    "\n",
    "        # MLP layers\n",
    "        self.dense_layers_arc_head = [\n",
    "            Dense(self.config.arc_mlt_size, activation=\"relu\", name=f\"arc_head_{i}\")\n",
    "            for i in range(self.config.mlt_depth)\n",
    "        ]\n",
    "        self.dense_layers_arc_dep = [\n",
    "            Dense(self.config.arc_mlt_size, activation=\"relu\", name=f\"arc_dep_{i}\")\n",
    "            for i in range(self.config.mlt_depth)\n",
    "        ]\n",
    "        self.dense_layers_rel_head = [\n",
    "            Dense(self.config.label_mlt_size, activation=\"relu\", name=f\"rel_head_{i}\")\n",
    "            for i in range(self.config.mlt_depth)\n",
    "        ]\n",
    "        self.dense_layers_rel_dep = [\n",
    "            Dense(self.config.label_mlt_size, activation=\"relu\", name=f\"rel_dep_{i}\")\n",
    "            for i in range(self.config.mlt_depth)\n",
    "        ]\n",
    "\n",
    "        # Biaffine layers\n",
    "        self.arc_logit = BiaffineLayer(\n",
    "            self.config.arc_mlt_size,\n",
    "            1,\n",
    "            bias_x=True,\n",
    "            bias_y=False,\n",
    "            name=\"biaffine_arc_logit\",\n",
    "        )\n",
    "        self.rel_logit = BiaffineLayer(\n",
    "            self.config.label_mlt_size,\n",
    "            self.config.deprel_size,\n",
    "            bias_x=True,\n",
    "            bias_y=True,\n",
    "            name=\"biaffine_rel_logit\",\n",
    "        )\n",
    "\n",
    "        # Loss function\n",
    "        self.loss_object = tf.keras.losses.SparseCategoricalCrossentropy(\n",
    "            True, reduction=\"none\"\n",
    "        )\n",
    "\n",
    "        # Optimizer\n",
    "        initial_learning_rate = self.config.learning_rate\n",
    "        lr_schedule = tf.keras.optimizers.schedules.ExponentialDecay(\n",
    "            initial_learning_rate,\n",
    "            decay_steps=self.config.annealing_steps,\n",
    "            decay_rate=self.config.annealing_factor,\n",
    "            staircase=True,\n",
    "        )\n",
    "\n",
    "        self.optimizer = tf.keras.optimizers.Adam(\n",
    "            learning_rate=lr_schedule,\n",
    "            beta_1=self.config.adam_beta_1,\n",
    "            beta_2=self.config.adam_beta_2,\n",
    "        )\n",
    "\n",
    "        # Metrics\n",
    "        self.metric_loss = tf.keras.metrics.Mean(name=\"loss\")\n",
    "        self.metric_uas = tf.keras.metrics.Mean(name=\"uas\")\n",
    "        self.metric_las = tf.keras.metrics.Mean(name=\"las\")\n",
    "\n",
    "        self.input_tokens = Input(\n",
    "            shape=(self.config.padding_size,), name=\"input_tokens\"\n",
    "        )\n",
    "        self.input_pos = Input(shape=(self.config.padding_size,), name=\"input_upos\")\n",
    "        self.input_lemmas = Input(\n",
    "            shape=(self.config.padding_size,), name=\"input_lemmas\"\n",
    "        )\n",
    "        self.input_xpos = Input(shape=(self.config.padding_size,), name=\"input_xpos\")\n",
    "        self.call([self.input_tokens, self.input_pos, self.input_lemmas, self.input_xpos])\n",
    "\n",
    "    def get_config(self):\n",
    "        config = super().get_config()\n",
    "        config.update({\"config\": self.config})\n",
    "        return config\n",
    "\n",
    "    @classmethod\n",
    "    def from_config(cls, config):\n",
    "        return cls(**config)\n",
    "\n",
    "    def apply_lstm_layers(self, x):\n",
    "        for i in range(self.config.lstm_depth):\n",
    "            x = Dropout(self.config.lstm_dropout, name=f\"bilstm_dropout_{i}\")(x)\n",
    "            x = self.bilstms[i](x)\n",
    "        return x\n",
    "\n",
    "    def apply_mlp_layers(self, x, dropout_rate, name_prefix):\n",
    "        for i in range(self.config.mlt_depth):\n",
    "            x = Dropout(dropout_rate, name=f\"{name_prefix}_dropout_{i}\")(x)\n",
    "            if name_prefix == \"arc_head\":\n",
    "                x = self.dense_layers_arc_head[i](x)\n",
    "            elif name_prefix == \"arc_dep\":\n",
    "                x = self.dense_layers_arc_dep[i](x)\n",
    "            elif name_prefix == \"rel_head\":\n",
    "                x = self.dense_layers_rel_head[i](x)\n",
    "            elif name_prefix == \"rel_dep\":\n",
    "                x = self.dense_layers_rel_dep[i](x)\n",
    "        return x\n",
    "\n",
    "    def call(self, inputs):\n",
    "        input_tokens, input_upos, input_lemmas, input_xpos = inputs\n",
    "\n",
    "        word_embedding = self.word_embedding(input_tokens)\n",
    "        word_dropout = Dropout(self.config.embedding_dropout, name=\"word_dropout\")(\n",
    "            word_embedding\n",
    "        )\n",
    "        pos_embedding = self.pos_embedding(input_upos)\n",
    "        pos_dropout = Dropout(self.config.embedding_dropout, name=\"pos_dropout\")(\n",
    "            pos_embedding\n",
    "        )\n",
    "        lemma_embedding = self.lemma_embedding(input_lemmas)\n",
    "        lemma_dropout = Dropout(self.config.embedding_dropout, name=\"lemma_dropout\")(\n",
    "            lemma_embedding\n",
    "        )\n",
    "        xpos_embedding = self.xpos_embedding(input_xpos)\n",
    "        xpos_dropout = Dropout(self.config.embedding_dropout, name=\"xpos_dropout\")(\n",
    "            xpos_embedding\n",
    "        )\n",
    "        embeddings = tf.concat(\n",
    "            [word_dropout, pos_dropout, lemma_dropout, xpos_dropout], axis=-1, name=\"concat_embeddings\"\n",
    "        )\n",
    "\n",
    "        bilstm_output = self.apply_lstm_layers(embeddings)\n",
    "\n",
    "        arc_head = self.apply_mlp_layers(\n",
    "            bilstm_output, self.config.arc_mlt_dropout, \"arc_head\"\n",
    "        )\n",
    "        arc_dep = self.apply_mlp_layers(\n",
    "            bilstm_output, self.config.arc_mlt_dropout, \"arc_dep\"\n",
    "        )\n",
    "        rel_head = self.apply_mlp_layers(\n",
    "            bilstm_output, self.config.label_mlt_dropout, \"rel_head\"\n",
    "        )\n",
    "        rel_dep = self.apply_mlp_layers(\n",
    "            bilstm_output, self.config.label_mlt_dropout, \"rel_dep\"\n",
    "        )\n",
    "\n",
    "        arc_logit = self.arc_logit([arc_dep, arc_head])\n",
    "        # arc_logit is produced by the BiaffineLayer used for predicting the arcs between words in a sentence.\n",
    "        # The output of this layer has an extra dimension because it's designed to handle multiple output units (for multi-class prediction),\n",
    "        # but in the case of arc prediction, there's only one output unit (binary prediction: whether an arc exists or not),\n",
    "        # hence the extra dimension is not needed and is removed by tf.squeeze.\n",
    "        arc_logit = tf.squeeze(arc_logit, axis=1, name=\"arc_logit\")\n",
    "        rel_logit = self.rel_logit([rel_dep, rel_head])\n",
    "        # the last dimension should be the number of relation types to match the expected input shape of the SparseCategoricalCrossentropy loss.\n",
    "        rel_logit = tf.transpose(rel_logit, perm=(0, 2, 3, 1), name=\"rel_logit\")\n",
    "\n",
    "        return arc_logit, rel_logit\n",
    "\n",
    "    def model(self):\n",
    "        input1 = Input(shape=(self.config.padding_size,), name=\"input_tokens\")\n",
    "        input2 = Input(shape=(self.config.padding_size,), name=\"input_upos\")\n",
    "        input3 = Input(shape=(self.config.padding_size,), name=\"input_lemmas\")\n",
    "        input4 = Input(shape=(self.config.padding_size,), name=\"input_xpos\")\n",
    "        return Model(inputs=[input1, input2, input3, input4], outputs=self.call([input1, input2, input3, input4]))\n",
    "\n",
    "    @staticmethod\n",
    "    def get_rel_indices(arc_true):\n",
    "        batch_size = tf.shape(arc_true)[0]\n",
    "        seq_len = tf.shape(arc_true)[1]\n",
    "        index1 = tf.tile(tf.expand_dims(tf.range(batch_size), -1), [1, seq_len])\n",
    "        index2 = tf.tile(tf.expand_dims(tf.range(seq_len), 0), [batch_size, 1])\n",
    "        indices = tf.stack((index1, index2, arc_true), axis=2)\n",
    "        return indices\n",
    "\n",
    "    def loss_function(self, arc_true, arc_pred, rel_true, rel_pred, mask):\n",
    "        arc_loss = self.loss_object(arc_true, arc_pred)\n",
    "        rel_loss = self.loss_object(rel_true, rel_pred)\n",
    "        loss = tf.boolean_mask((arc_loss + rel_loss)[:, 1:], mask[:, 1:])\n",
    "        loss = tf.reduce_mean(loss)\n",
    "        return loss\n",
    "\n",
    "    def get_metrics(self, arc_true, arc_pred, rel_true, rel_pred, mask):\n",
    "        arc_pred = tf.argmax(arc_pred, -1, output_type=arc_true.dtype)\n",
    "        arc_pred = tf.boolean_mask(arc_pred[:, 1:], mask[:, 1:])\n",
    "        arc_true = tf.boolean_mask(arc_true[:, 1:], mask[:, 1:])\n",
    "        arc_correct = arc_true == arc_pred\n",
    "        uas = tf.reduce_mean(tf.cast(arc_correct, tf.float32))\n",
    "        rel_pred = tf.argmax(rel_pred, -1, output_type=rel_true.dtype)\n",
    "        rel_pred = tf.boolean_mask(rel_pred[:, 1:], mask[:, 1:])\n",
    "        rel_true = tf.boolean_mask(rel_true[:, 1:], mask[:, 1:])\n",
    "        rel_correct = tf.logical_and(rel_true == rel_pred, arc_correct)\n",
    "        las = tf.reduce_mean(tf.cast(rel_correct, tf.float32))\n",
    "        return uas, las\n",
    "\n",
    "    @tf.function(\n",
    "        input_signature=[\n",
    "            (\n",
    "                (\n",
    "                    tf.TensorSpec(shape=(None, config.padding_size), dtype=tf.int32),\n",
    "                    tf.TensorSpec(shape=(None, config.padding_size), dtype=tf.int32),\n",
    "                    tf.TensorSpec(shape=(None, config.padding_size), dtype=tf.int32),\n",
    "                    tf.TensorSpec(shape=(None, config.padding_size), dtype=tf.int32),\n",
    "                    tf.TensorSpec(shape=(None,), dtype=tf.int32),\n",
    "                ),\n",
    "                (\n",
    "                    tf.TensorSpec(shape=(None, config.padding_size), dtype=tf.int32),\n",
    "                    tf.TensorSpec(shape=(None, config.padding_size), dtype=tf.int32),\n",
    "                ),\n",
    "            )\n",
    "        ]\n",
    "    )\n",
    "    def train_step(self, data):\n",
    "        ((input_word, input_pos, input_lemma, input_xpos, input_len), (input_head, input_rel)) = data\n",
    "        mask = tf.sequence_mask(input_len, tf.shape(input_word)[1])\n",
    "\n",
    "        with tf.GradientTape() as tape:\n",
    "            arc_logit, rel_logit = self((input_word, input_pos, input_lemma, input_xpos), training=True)\n",
    "            rel_logit = tf.gather_nd(rel_logit, self.get_rel_indices(input_head))\n",
    "            loss = self.loss_function(input_head, arc_logit, input_rel, rel_logit, mask)\n",
    "\n",
    "        trainable_variables = self.trainable_variables\n",
    "        grads = tape.gradient(loss, trainable_variables)\n",
    "        clipped_grads = [tf.clip_by_value(grad, -2.0, 2.0) for grad in grads]\n",
    "        self.optimizer.apply_gradients(zip(clipped_grads, trainable_variables))\n",
    "\n",
    "        uas, las = self.get_metrics(input_head, arc_logit, input_rel, rel_logit, mask)\n",
    "        self.metric_loss.update_state(loss)\n",
    "        self.metric_uas.update_state(uas)\n",
    "        self.metric_las.update_state(las)\n",
    "\n",
    "        return {\n",
    "            \"loss\": self.metric_loss.result(),\n",
    "            \"UAS\": self.metric_uas.result(),\n",
    "            \"LAS\": self.metric_las.result(),\n",
    "        }\n",
    "\n",
    "    def evaluate(self, x=None, **kwargs):\n",
    "        UAS = LAS = tf.constant(0.0, dtype=tf.float32)\n",
    "        steps = 0\n",
    "        for (input_word, input_pos, input_lemma, input_xpos, input_len), (input_head, input_rel) in x:\n",
    "            arc_logit, rel_logit = self((input_word, input_pos, input_lemma, input_xpos), training=False)\n",
    "            rel_logit = tf.gather_nd(rel_logit, self.get_rel_indices(input_head))\n",
    "            mask = tf.sequence_mask(input_len, tf.shape(input_word)[1])\n",
    "            uas, las = self.get_metrics(\n",
    "                input_head, arc_logit, input_rel, rel_logit, mask\n",
    "            )\n",
    "            UAS, LAS, steps = UAS + uas, LAS + las, steps + 1\n",
    "\n",
    "        return {\"UAS\": UAS.numpy() / steps, \"LAS\": LAS.numpy() / steps}"
   ]
  },
  {
   "cell_type": "markdown",
   "metadata": {},
   "source": [
    "### <a id='toc2_6_4_'></a>[Setup and Training](#toc0_)"
   ]
  },
  {
   "cell_type": "markdown",
   "metadata": {},
   "source": [
    "After the model class is defined, the next step is to create an instance of the model and set up the training process. This includes compiling the model with a custom loss function and an Adam optimizer:"
   ]
  },
  {
   "cell_type": "code",
   "execution_count": 36,
   "metadata": {},
   "outputs": [],
   "source": [
    "tf.keras.backend.clear_session()"
   ]
  },
  {
   "cell_type": "code",
   "execution_count": 37,
   "metadata": {},
   "outputs": [
    {
     "name": "stderr",
     "output_type": "stream",
     "text": [
      "2024-04-17 17:52:21.256524: I external/local_tsl/tsl/platform/default/subprocess.cc:304] Start cannot spawn child process: No such file or directory\n"
     ]
    }
   ],
   "source": [
    "model = BiaffineAttentionModel(config)"
   ]
  },
  {
   "cell_type": "code",
   "execution_count": 38,
   "metadata": {},
   "outputs": [],
   "source": [
    "model.compile(optimizer=model.optimizer, loss=model.loss_function)"
   ]
  },
  {
   "cell_type": "markdown",
   "metadata": {},
   "source": [
    "The build method should be called to create the weights of the model."
   ]
  },
  {
   "cell_type": "code",
   "execution_count": 39,
   "metadata": {},
   "outputs": [],
   "source": [
    "model.build(input_shape=[(None, config.padding_size), (None, config.padding_size), (None, config.padding_size), (None, config.padding_size)])"
   ]
  },
  {
   "cell_type": "markdown",
   "metadata": {},
   "source": [
    "As it was mentioned, the custom model can not directly using the `model.summary()` method to display the model architecture. Instead, the `model` method is used to create an instance of a Keras Model. This method is used to present the model summary."
   ]
  },
  {
   "cell_type": "code",
   "execution_count": 40,
   "metadata": {},
   "outputs": [],
   "source": [
    "model_functional = model.model()"
   ]
  },
  {
   "cell_type": "code",
   "execution_count": 41,
   "metadata": {},
   "outputs": [
    {
     "name": "stdout",
     "output_type": "stream",
     "text": [
      "Model: \"model\"\n",
      "__________________________________________________________________________________________________\n",
      " Layer (type)                Output Shape                 Param #   Connected to                  \n",
      "==================================================================================================\n",
      " input_tokens (InputLayer)   [(None, 128)]                0         []                            \n",
      "                                                                                                  \n",
      " input_upos (InputLayer)     [(None, 128)]                0         []                            \n",
      "                                                                                                  \n",
      " input_lemmas (InputLayer)   [(None, 128)]                0         []                            \n",
      "                                                                                                  \n",
      " input_xpos (InputLayer)     [(None, 128)]                0         []                            \n",
      "                                                                                                  \n",
      " word_embedding (Embedding)  (None, 128, 100)             2505000   ['input_tokens[0][0]']        \n",
      "                                                                                                  \n",
      " pos_embedding (Embedding)   (None, 128, 100)             1600      ['input_upos[0][0]']          \n",
      "                                                                                                  \n",
      " lemma_embedding (Embedding  (None, 128, 100)             1329600   ['input_lemmas[0][0]']        \n",
      " )                                                                                                \n",
      "                                                                                                  \n",
      " xpos_embedding (Embedding)  (None, 128, 100)             53900     ['input_xpos[0][0]']          \n",
      "                                                                                                  \n",
      " word_dropout (Dropout)      (None, 128, 100)             0         ['word_embedding[1][0]']      \n",
      "                                                                                                  \n",
      " pos_dropout (Dropout)       (None, 128, 100)             0         ['pos_embedding[1][0]']       \n",
      "                                                                                                  \n",
      " lemma_dropout (Dropout)     (None, 128, 100)             0         ['lemma_embedding[1][0]']     \n",
      "                                                                                                  \n",
      " xpos_dropout (Dropout)      (None, 128, 100)             0         ['xpos_embedding[1][0]']      \n",
      "                                                                                                  \n",
      " tf.concat_1 (TFOpLambda)    (None, 128, 400)             0         ['word_dropout[0][0]',        \n",
      "                                                                     'pos_dropout[0][0]',         \n",
      "                                                                     'lemma_dropout[0][0]',       \n",
      "                                                                     'xpos_dropout[0][0]']        \n",
      "                                                                                                  \n",
      " bilstm_dropout_0 (Dropout)  (None, 128, 400)             0         ['tf.concat_1[0][0]']         \n",
      "                                                                                                  \n",
      " bilstm0 (Bidirectional)     (None, 128, 800)             2563200   ['bilstm_dropout_0[0][0]']    \n",
      "                                                                                                  \n",
      " bilstm_dropout_1 (Dropout)  (None, 128, 800)             0         ['bilstm0[1][0]']             \n",
      "                                                                                                  \n",
      " bilstm1 (Bidirectional)     (None, 128, 800)             3843200   ['bilstm_dropout_1[0][0]']    \n",
      "                                                                                                  \n",
      " bilstm_dropout_2 (Dropout)  (None, 128, 800)             0         ['bilstm1[1][0]']             \n",
      "                                                                                                  \n",
      " bilstm2 (Bidirectional)     (None, 128, 800)             3843200   ['bilstm_dropout_2[0][0]']    \n",
      "                                                                                                  \n",
      " arc_dep_dropout_0 (Dropout  (None, 128, 800)             0         ['bilstm2[1][0]']             \n",
      " )                                                                                                \n",
      "                                                                                                  \n",
      " arc_head_dropout_0 (Dropou  (None, 128, 800)             0         ['bilstm2[1][0]']             \n",
      " t)                                                                                               \n",
      "                                                                                                  \n",
      " rel_dep_dropout_0 (Dropout  (None, 128, 800)             0         ['bilstm2[1][0]']             \n",
      " )                                                                                                \n",
      "                                                                                                  \n",
      " rel_head_dropout_0 (Dropou  (None, 128, 800)             0         ['bilstm2[1][0]']             \n",
      " t)                                                                                               \n",
      "                                                                                                  \n",
      " arc_dep_0 (Dense)           (None, 128, 500)             400500    ['arc_dep_dropout_0[0][0]']   \n",
      "                                                                                                  \n",
      " arc_head_0 (Dense)          (None, 128, 500)             400500    ['arc_head_dropout_0[0][0]']  \n",
      "                                                                                                  \n",
      " rel_dep_0 (Dense)           (None, 128, 100)             80100     ['rel_dep_dropout_0[0][0]']   \n",
      "                                                                                                  \n",
      " rel_head_0 (Dense)          (None, 128, 100)             80100     ['rel_head_dropout_0[0][0]']  \n",
      "                                                                                                  \n",
      " biaffine_arc_logit (Biaffi  (None, 1, 128, 128)          250500    ['arc_dep_0[1][0]',           \n",
      " neLayer)                                                            'arc_head_0[1][0]']          \n",
      "                                                                                                  \n",
      " biaffine_rel_logit (Biaffi  (None, 38, 128, 128)         387638    ['rel_dep_0[1][0]',           \n",
      " neLayer)                                                            'rel_head_0[1][0]']          \n",
      "                                                                                                  \n",
      " tf.compat.v1.squeeze_1 (TF  (None, 128, 128)             0         ['biaffine_arc_logit[1][0]']  \n",
      " OpLambda)                                                                                        \n",
      "                                                                                                  \n",
      " tf.compat.v1.transpose_1 (  (None, 128, 128, 38)         0         ['biaffine_rel_logit[1][0]']  \n",
      " TFOpLambda)                                                                                      \n",
      "                                                                                                  \n",
      "==================================================================================================\n",
      "Total params: 15739038 (60.04 MB)\n",
      "Trainable params: 15739038 (60.04 MB)\n",
      "Non-trainable params: 0 (0.00 Byte)\n",
      "__________________________________________________________________________________________________\n"
     ]
    }
   ],
   "source": [
    "model_functional.summary()"
   ]
  },
  {
   "cell_type": "markdown",
   "metadata": {},
   "source": [
    "The plot of the model architecture is displayed below:"
   ]
  },
  {
   "cell_type": "code",
   "execution_count": 42,
   "metadata": {},
   "outputs": [
    {
     "data": {
      "image/png": "[encoded data removed]",
      "text/plain": [
       "<IPython.core.display.Image object>"
      ]
     },
     "execution_count": 42,
     "metadata": {},
     "output_type": "execute_result"
    }
   ],
   "source": [
    "plot_model(model_functional, show_shapes=True, show_layer_names=True, rankdir=\"BT\", show_layer_activations=True)"
   ]
  },
  {
   "cell_type": "markdown",
   "metadata": {},
   "source": [
    "The following cell creates a directory named `logs/`, appended with the current date and time, where the TensorBoard logs will be stored. It then defines a dictionary, `params`, from the `config` object, excluding any items where the key ends with '_size'. This dictionary holds the model's hyperparameters. A file writer is established in the log directory to write TensorBoard logs. The `hp.hparams` function is used to log the hyperparameters, which can subsequently be visualized and compared in TensorBoard. Lastly, a TensorBoard callback is created with the log directory and the histogram frequency set to 1, indicating that histograms will be computed every epoch. This callback can be passed to the `fit` method of a TensorFlow model to initiate logging data for TensorBoard."
   ]
  },
  {
   "cell_type": "code",
   "execution_count": 43,
   "metadata": {},
   "outputs": [],
   "source": [
    "log_dir = \"logs/\" + datetime.datetime.now().strftime(\"%Y%m%d-%H%M%S\")\n",
    "params = {k: v for k, v in config.__dict__.items() if not k.endswith('_size')}\n",
    "\n",
    "with tf.summary.create_file_writer(log_dir).as_default():\n",
    "    hp.hparams(params)\n",
    "tensorboard_callback = TensorBoard(log_dir=log_dir, histogram_freq=1)"
   ]
  },
  {
   "cell_type": "markdown",
   "metadata": {},
   "source": [
    "The custom `BiaffineAttentionModelCheckpoint` class inherits from the `Callback` class provided by TensorFlow. It overrides the `__init__` method to accept parameters for the filepath where the model should be saved, the metrics to monitor (`LAS` and `UAS`), the mode (`max` or `min`), and whether to only save the model when it has the best performance so far (`save_best_only`).\n",
    "\n",
    "The `on_epoch_end` method is called at the end of each epoch during training. If `save_best_only` is `True`, it checks whether the current performance (based on `LAS` and `UAS`) is better than the best performance seen so far. If it is, it updates the best performance and saves the model. Otherwise, it saves the model at the end of every epoch regardless of performance."
   ]
  },
  {
   "cell_type": "code",
   "execution_count": 44,
   "metadata": {},
   "outputs": [],
   "source": [
    "# class BiaffineAttentionModelCheckpoint(Callback):\n",
    "#     def __init__(self, filepath, monitor1='LAS', monitor2='UAS', mode='max', save_best_only=True, save_weights_only=False):\n",
    "#         super().__init__()\n",
    "#         self.filepath = filepath\n",
    "#         self.monitor1 = monitor1\n",
    "#         self.monitor2 = monitor2\n",
    "#         self.mode = mode\n",
    "#         self.save_best_only = save_best_only\n",
    "#         self.save_weights_only = save_weights_only\n",
    "#         self.best_eval_score = log_dir + '/best_eval_score'\n",
    "#         self.best_eval_summary_writer = tf.summary.create_file_writer(self.best_eval_score)\n",
    "#         if mode == 'max':\n",
    "#             self.monitor_op = max\n",
    "#             self.best = float('-inf')\n",
    "#         elif mode == 'min':\n",
    "#             self.monitor_op = min\n",
    "#             self.best = float('inf')\n",
    "\n",
    "#     def on_epoch_end(self, epoch, logs=None):\n",
    "#         current1 = logs.get(self.monitor1)\n",
    "#         current2 = logs.get(self.monitor2)\n",
    "#         if self.save_best_only:\n",
    "#             if self.monitor_op(current1, current2) > self.best:\n",
    "#                 self.best = self.monitor_op(current1, current2)\n",
    "#                 with self.best_eval_summary_writer.as_default():\n",
    "#                     tf.summary.scalar('best_eval_LAS', current1, step=epoch)\n",
    "#                     tf.summary.scalar('best_eval_UAS', current2, step=epoch)\n",
    "#                 if self.save_weights_only:\n",
    "#                     self.model.save_weights(self.filepath, overwrite=True)\n",
    "#                 else:\n",
    "#                     self.model.save(self.filepath, overwrite=True, save_format='tf')\n",
    "#         else:\n",
    "#             if self.save_weights_only:\n",
    "#                 self.model.save_weights(self.filepath, overwrite=True)\n",
    "#             else:\n",
    "#                 self.model.save(self.filepath, overwrite=True, save_format='tf')"
   ]
  },
  {
   "cell_type": "code",
   "execution_count": 45,
   "metadata": {},
   "outputs": [],
   "source": [
    "class BiaffineAttentionModelCheckpoint(Callback):\n",
    "    def __init__(self, filepath, eval_data, monitor1='LAS', monitor2='UAS', mode='max', save_best_only=True, save_weights_only=False):\n",
    "        super().__init__()\n",
    "        self.filepath = filepath\n",
    "        self.eval_data = eval_data\n",
    "        self.monitor1 = monitor1\n",
    "        self.monitor2 = monitor2\n",
    "        self.mode = mode\n",
    "        self.save_best_only = save_best_only\n",
    "        self.save_weights_only = save_weights_only\n",
    "        self.best_eval_score = log_dir + '/best_eval_score'\n",
    "        self.best_eval_summary_writer = tf.summary.create_file_writer(self.best_eval_score)\n",
    "        if mode == 'max':\n",
    "            self.monitor_op = max\n",
    "            self.best = float('-inf')\n",
    "        elif mode == 'min':\n",
    "            self.monitor_op = min\n",
    "            self.best = float('inf')\n",
    "\n",
    "    def on_epoch_end(self, epoch, logs=None):\n",
    "        logs = self.model.evaluate(self.eval_data, return_dict=True)\n",
    "        current1 = logs.get(self.monitor1)\n",
    "        current2 = logs.get(self.monitor2)\n",
    "        if self.save_best_only:\n",
    "            if self.monitor_op(current1, current2) > self.best:\n",
    "                self.best = self.monitor_op(current1, current2)\n",
    "                with self.best_eval_summary_writer.as_default():\n",
    "                    tf.summary.scalar('best_eval_LAS', current1, step=epoch)\n",
    "                    tf.summary.scalar('best_eval_UAS', current2, step=epoch)\n",
    "                if self.save_weights_only:\n",
    "                    self.model.save_weights(self.filepath, overwrite=True)\n",
    "                else:\n",
    "                    self.model.save(self.filepath, overwrite=True, save_format='tf')\n",
    "        else:\n",
    "            if self.save_weights_only:\n",
    "                self.model.save_weights(self.filepath, overwrite=True)\n",
    "            else:\n",
    "                self.model.save(self.filepath, overwrite=True, save_format='tf')"
   ]
  },
  {
   "cell_type": "markdown",
   "metadata": {},
   "source": [
    "Upon defining the class, an instance of this callback is created. This instance can be passed to the `fit` method of a model during training. It is configured to save the model to a file named 'model', monitor the `LAS` and `UAS` metrics, and consider higher values of these metrics as better (`mode='max'`). It is set to save the model only when it achieves the best performance so far (`save_best_only=True`). However, during the testing phase of the training process, this value is typically set to `False` to ensure the model is saved at the end of every epoch."
   ]
  },
  {
   "cell_type": "code",
   "execution_count": 46,
   "metadata": {},
   "outputs": [],
   "source": [
    "biaffine_checkpoint = BiaffineAttentionModelCheckpoint(\n",
    "    \"./saved_model_weights/model_weights\",\n",
    "    eval_data = dev_data,\n",
    "    monitor1=\"LAS\",\n",
    "    monitor2=\"UAS\",\n",
    "    mode=\"max\",\n",
    "    save_best_only=True,\n",
    "    save_weights_only=True,\n",
    ")"
   ]
  },
  {
   "cell_type": "markdown",
   "metadata": {},
   "source": [
    "The model is now ready for training.  \n",
    "\n",
    "Although MLflow logs are not presented in this notebook, given that TensorBoard logs are more convenient for sharing, they were used during the evaluation process and will be retained here. If MLflow is required, comment the following cell and uncomment out the subsequent two cells."
   ]
  },
  {
   "cell_type": "code",
   "execution_count": 47,
   "metadata": {},
   "outputs": [
    {
     "name": "stdout",
     "output_type": "stream",
     "text": [
      "Epoch 1/80\n"
     ]
    },
    {
     "name": "stderr",
     "output_type": "stream",
     "text": [
      "2024-04-17 17:53:48.848806: I external/local_xla/xla/stream_executor/cuda/cuda_dnn.cc:454] Loaded cuDNN version 8902\n",
      "2024-04-17 17:53:49.990047: I external/local_xla/xla/service/service.cc:168] XLA service 0x7f5875653680 initialized for platform CUDA (this does not guarantee that XLA will be used). Devices:\n",
      "2024-04-17 17:53:49.990091: I external/local_xla/xla/service/service.cc:176]   StreamExecutor device (0): NVIDIA GeForce RTX 4090, Compute Capability 8.9\n",
      "2024-04-17 17:53:50.004333: I tensorflow/compiler/mlir/tensorflow/utils/dump_mlir_util.cc:269] disabling MLIR crash reproducer, set env var `MLIR_CRASH_REPRODUCER_DIRECTORY` to enable.\n",
      "WARNING: All log messages before absl::InitializeLog() is called are written to STDERR\n",
      "I0000 00:00:1713365630.097714   32387 device_compiler.h:186] Compiled cluster using XLA!  This line is logged at most once for the lifetime of the process.\n"
     ]
    },
    {
     "name": "stdout",
     "output_type": "stream",
     "text": [
      "70/70 [==============================] - 36s 357ms/step - loss: 7.0833 - UAS: 0.0707 - LAS: 0.0124 - val_UAS: 0.3185 - val_LAS: 0.1467\n",
      "Epoch 2/80\n",
      "70/70 [==============================] - 9s 136ms/step - loss: 2.1826 - UAS: 0.4658 - LAS: 0.2979 - val_UAS: 0.7834 - val_LAS: 0.6765\n",
      "Epoch 3/80\n",
      "70/70 [==============================] - 9s 130ms/step - loss: 1.0840 - UAS: 0.7720 - LAS: 0.6644 - val_UAS: 0.8308 - val_LAS: 0.7555\n",
      "Epoch 4/80\n",
      "70/70 [==============================] - 10s 136ms/step - loss: 0.8102 - UAS: 0.8234 - LAS: 0.7424 - val_UAS: 0.8615 - val_LAS: 0.7965\n",
      "Epoch 5/80\n",
      "70/70 [==============================] - 9s 129ms/step - loss: 0.6735 - UAS: 0.8570 - LAS: 0.7880 - val_UAS: 0.8745 - val_LAS: 0.8145\n",
      "Epoch 6/80\n",
      "70/70 [==============================] - 9s 131ms/step - loss: 0.5839 - UAS: 0.8775 - LAS: 0.8150 - val_UAS: 0.8823 - val_LAS: 0.8268\n",
      "Epoch 7/80\n",
      "70/70 [==============================] - 10s 138ms/step - loss: 0.5173 - UAS: 0.8917 - LAS: 0.8367 - val_UAS: 0.8896 - val_LAS: 0.8376\n",
      "Epoch 8/80\n",
      "70/70 [==============================] - 9s 129ms/step - loss: 0.4610 - UAS: 0.9026 - LAS: 0.8517 - val_UAS: 0.8944 - val_LAS: 0.8425\n",
      "Epoch 9/80\n",
      "70/70 [==============================] - 9s 129ms/step - loss: 0.4164 - UAS: 0.9120 - LAS: 0.8656 - val_UAS: 0.8956 - val_LAS: 0.8463\n",
      "Epoch 10/80\n",
      "70/70 [==============================] - 9s 132ms/step - loss: 0.3822 - UAS: 0.9208 - LAS: 0.8781 - val_UAS: 0.9002 - val_LAS: 0.8493\n",
      "Epoch 11/80\n",
      "70/70 [==============================] - 10s 139ms/step - loss: 0.3459 - UAS: 0.9273 - LAS: 0.8893 - val_UAS: 0.9037 - val_LAS: 0.8554\n",
      "Epoch 12/80\n",
      "70/70 [==============================] - 9s 126ms/step - loss: 0.3271 - UAS: 0.9323 - LAS: 0.8952 - val_UAS: 0.9035 - val_LAS: 0.8573\n",
      "Epoch 13/80\n",
      "70/70 [==============================] - 9s 126ms/step - loss: 0.3074 - UAS: 0.9368 - LAS: 0.9023 - val_UAS: 0.9036 - val_LAS: 0.8560\n",
      "Epoch 14/80\n",
      "70/70 [==============================] - 9s 135ms/step - loss: 0.2795 - UAS: 0.9410 - LAS: 0.9090 - val_UAS: 0.9046 - val_LAS: 0.8577\n",
      "Epoch 15/80\n",
      "70/70 [==============================] - 9s 128ms/step - loss: 0.2633 - UAS: 0.9458 - LAS: 0.9164 - val_UAS: 0.9043 - val_LAS: 0.8556\n",
      "Epoch 16/80\n",
      "70/70 [==============================] - 9s 129ms/step - loss: 0.2481 - UAS: 0.9471 - LAS: 0.9184 - val_UAS: 0.9027 - val_LAS: 0.8560\n",
      "Epoch 17/80\n",
      "70/70 [==============================] - 9s 131ms/step - loss: 0.2382 - UAS: 0.9479 - LAS: 0.9211 - val_UAS: 0.9070 - val_LAS: 0.8599\n",
      "Epoch 18/80\n",
      "70/70 [==============================] - 9s 126ms/step - loss: 0.2186 - UAS: 0.9541 - LAS: 0.9284 - val_UAS: 0.9058 - val_LAS: 0.8585\n",
      "Epoch 19/80\n",
      "70/70 [==============================] - 9s 131ms/step - loss: 0.2119 - UAS: 0.9559 - LAS: 0.9312 - val_UAS: 0.9086 - val_LAS: 0.8618\n",
      "Epoch 20/80\n",
      "70/70 [==============================] - 9s 132ms/step - loss: 0.1969 - UAS: 0.9588 - LAS: 0.9354 - val_UAS: 0.9073 - val_LAS: 0.8601\n",
      "Epoch 21/80\n",
      "70/70 [==============================] - 10s 142ms/step - loss: 0.1878 - UAS: 0.9607 - LAS: 0.9382 - val_UAS: 0.9087 - val_LAS: 0.8614\n",
      "Epoch 22/80\n",
      "70/70 [==============================] - 9s 134ms/step - loss: 0.1820 - UAS: 0.9628 - LAS: 0.9414 - val_UAS: 0.9102 - val_LAS: 0.8638\n",
      "Epoch 23/80\n",
      "70/70 [==============================] - 9s 134ms/step - loss: 0.1721 - UAS: 0.9638 - LAS: 0.9434 - val_UAS: 0.9123 - val_LAS: 0.8643\n",
      "Epoch 24/80\n",
      "70/70 [==============================] - 9s 133ms/step - loss: 0.1656 - UAS: 0.9660 - LAS: 0.9466 - val_UAS: 0.9115 - val_LAS: 0.8642\n",
      "Epoch 25/80\n",
      "70/70 [==============================] - 9s 130ms/step - loss: 0.1547 - UAS: 0.9682 - LAS: 0.9496 - val_UAS: 0.9089 - val_LAS: 0.8630\n",
      "Epoch 26/80\n",
      "70/70 [==============================] - 9s 129ms/step - loss: 0.1535 - UAS: 0.9685 - LAS: 0.9498 - val_UAS: 0.9097 - val_LAS: 0.8626\n",
      "Epoch 27/80\n",
      "70/70 [==============================] - 9s 131ms/step - loss: 0.1450 - UAS: 0.9698 - LAS: 0.9515 - val_UAS: 0.9110 - val_LAS: 0.8643\n",
      "Epoch 28/80\n",
      "70/70 [==============================] - 9s 131ms/step - loss: 0.1407 - UAS: 0.9717 - LAS: 0.9545 - val_UAS: 0.9090 - val_LAS: 0.8633\n",
      "Epoch 29/80\n",
      "70/70 [==============================] - 9s 133ms/step - loss: 0.1352 - UAS: 0.9709 - LAS: 0.9548 - val_UAS: 0.9138 - val_LAS: 0.8690\n",
      "Epoch 30/80\n",
      "70/70 [==============================] - 9s 133ms/step - loss: 0.1108 - UAS: 0.9772 - LAS: 0.9633 - val_UAS: 0.9157 - val_LAS: 0.8711\n",
      "Epoch 31/80\n",
      "70/70 [==============================] - 10s 137ms/step - loss: 0.1030 - UAS: 0.9788 - LAS: 0.9651 - val_UAS: 0.9166 - val_LAS: 0.8712\n",
      "Epoch 32/80\n",
      "70/70 [==============================] - 9s 128ms/step - loss: 0.0977 - UAS: 0.9804 - LAS: 0.9675 - val_UAS: 0.9165 - val_LAS: 0.8715\n",
      "Epoch 33/80\n",
      "70/70 [==============================] - 9s 127ms/step - loss: 0.0938 - UAS: 0.9813 - LAS: 0.9689 - val_UAS: 0.9164 - val_LAS: 0.8711\n",
      "Epoch 34/80\n",
      "70/70 [==============================] - 9s 130ms/step - loss: 0.0868 - UAS: 0.9823 - LAS: 0.9709 - val_UAS: 0.9159 - val_LAS: 0.8707\n",
      "Epoch 35/80\n",
      "70/70 [==============================] - 10s 140ms/step - loss: 0.0889 - UAS: 0.9822 - LAS: 0.9708 - val_UAS: 0.9169 - val_LAS: 0.8726\n",
      "Epoch 36/80\n",
      "70/70 [==============================] - 10s 138ms/step - loss: 0.0843 - UAS: 0.9833 - LAS: 0.9717 - val_UAS: 0.9181 - val_LAS: 0.8736\n",
      "Epoch 37/80\n",
      "70/70 [==============================] - 9s 135ms/step - loss: 0.0810 - UAS: 0.9829 - LAS: 0.9719 - val_UAS: 0.9175 - val_LAS: 0.8730\n",
      "Epoch 38/80\n",
      "70/70 [==============================] - 9s 131ms/step - loss: 0.0813 - UAS: 0.9837 - LAS: 0.9726 - val_UAS: 0.9166 - val_LAS: 0.8722\n",
      "Epoch 39/80\n",
      "70/70 [==============================] - 9s 132ms/step - loss: 0.0768 - UAS: 0.9851 - LAS: 0.9742 - val_UAS: 0.9166 - val_LAS: 0.8719\n",
      "Epoch 40/80\n",
      "70/70 [==============================] - 10s 142ms/step - loss: 0.0773 - UAS: 0.9849 - LAS: 0.9742 - val_UAS: 0.9182 - val_LAS: 0.8736\n",
      "Epoch 41/80\n",
      "70/70 [==============================] - 9s 131ms/step - loss: 0.0761 - UAS: 0.9844 - LAS: 0.9736 - val_UAS: 0.9179 - val_LAS: 0.8733\n",
      "Epoch 42/80\n",
      "70/70 [==============================] - 9s 135ms/step - loss: 0.0745 - UAS: 0.9852 - LAS: 0.9744 - val_UAS: 0.9185 - val_LAS: 0.8738\n",
      "Epoch 43/80\n",
      "70/70 [==============================] - 9s 132ms/step - loss: 0.0723 - UAS: 0.9865 - LAS: 0.9761 - val_UAS: 0.9176 - val_LAS: 0.8727\n",
      "Epoch 44/80\n",
      "70/70 [==============================] - 9s 132ms/step - loss: 0.0697 - UAS: 0.9865 - LAS: 0.9760 - val_UAS: 0.9178 - val_LAS: 0.8728\n",
      "Epoch 45/80\n",
      "70/70 [==============================] - 9s 132ms/step - loss: 0.0694 - UAS: 0.9867 - LAS: 0.9765 - val_UAS: 0.9182 - val_LAS: 0.8733\n",
      "Epoch 46/80\n",
      "70/70 [==============================] - 9s 134ms/step - loss: 0.0707 - UAS: 0.9865 - LAS: 0.9763 - val_UAS: 0.9183 - val_LAS: 0.8734\n",
      "Epoch 47/80\n",
      "70/70 [==============================] - 10s 138ms/step - loss: 0.0694 - UAS: 0.9860 - LAS: 0.9758 - val_UAS: 0.9173 - val_LAS: 0.8719\n",
      "Epoch 48/80\n",
      "70/70 [==============================] - 9s 131ms/step - loss: 0.0674 - UAS: 0.9864 - LAS: 0.9763 - val_UAS: 0.9174 - val_LAS: 0.8724\n",
      "Epoch 49/80\n",
      "70/70 [==============================] - 9s 133ms/step - loss: 0.0649 - UAS: 0.9876 - LAS: 0.9784 - val_UAS: 0.9173 - val_LAS: 0.8722\n",
      "Epoch 50/80\n",
      "70/70 [==============================] - 9s 135ms/step - loss: 0.0653 - UAS: 0.9880 - LAS: 0.9785 - val_UAS: 0.9170 - val_LAS: 0.8718\n",
      "Epoch 51/80\n",
      "70/70 [==============================] - 9s 131ms/step - loss: 0.0632 - UAS: 0.9878 - LAS: 0.9788 - val_UAS: 0.9175 - val_LAS: 0.8724\n",
      "Epoch 52/80\n",
      "70/70 [==============================] - 9s 131ms/step - loss: 0.0643 - UAS: 0.9881 - LAS: 0.9783 - val_UAS: 0.9175 - val_LAS: 0.8723\n",
      "Epoch 53/80\n",
      "70/70 [==============================] - 9s 127ms/step - loss: 0.0632 - UAS: 0.9877 - LAS: 0.9788 - val_UAS: 0.9173 - val_LAS: 0.8724\n",
      "Epoch 54/80\n",
      "70/70 [==============================] - 9s 125ms/step - loss: 0.0615 - UAS: 0.9878 - LAS: 0.9788 - val_UAS: 0.9179 - val_LAS: 0.8728\n",
      "Epoch 55/80\n",
      "70/70 [==============================] - 9s 126ms/step - loss: 0.0609 - UAS: 0.9884 - LAS: 0.9790 - val_UAS: 0.9173 - val_LAS: 0.8722\n",
      "Epoch 56/80\n",
      "70/70 [==============================] - 9s 125ms/step - loss: 0.0618 - UAS: 0.9883 - LAS: 0.9800 - val_UAS: 0.9179 - val_LAS: 0.8733\n",
      "Epoch 57/80\n",
      "70/70 [==============================] - 9s 131ms/step - loss: 0.0584 - UAS: 0.9889 - LAS: 0.9805 - val_UAS: 0.9182 - val_LAS: 0.8729\n",
      "Epoch 58/80\n",
      "70/70 [==============================] - 9s 123ms/step - loss: 0.0590 - UAS: 0.9883 - LAS: 0.9798 - val_UAS: 0.9173 - val_LAS: 0.8724\n",
      "Epoch 59/80\n",
      "70/70 [==============================] - 9s 127ms/step - loss: 0.0564 - UAS: 0.9891 - LAS: 0.9804 - val_UAS: 0.9172 - val_LAS: 0.8729\n",
      "Epoch 60/80\n",
      "70/70 [==============================] - 9s 128ms/step - loss: 0.0574 - UAS: 0.9895 - LAS: 0.9809 - val_UAS: 0.9171 - val_LAS: 0.8727\n",
      "Epoch 61/80\n",
      "70/70 [==============================] - 9s 124ms/step - loss: 0.0568 - UAS: 0.9889 - LAS: 0.9802 - val_UAS: 0.9173 - val_LAS: 0.8725\n",
      "Epoch 62/80\n",
      "70/70 [==============================] - 9s 128ms/step - loss: 0.0568 - UAS: 0.9892 - LAS: 0.9810 - val_UAS: 0.9171 - val_LAS: 0.8725\n",
      "Epoch 63/80\n",
      "70/70 [==============================] - 9s 127ms/step - loss: 0.0578 - UAS: 0.9891 - LAS: 0.9796 - val_UAS: 0.9173 - val_LAS: 0.8728\n",
      "Epoch 64/80\n",
      "70/70 [==============================] - 10s 138ms/step - loss: 0.0563 - UAS: 0.9889 - LAS: 0.9803 - val_UAS: 0.9174 - val_LAS: 0.8728\n",
      "Epoch 65/80\n",
      "70/70 [==============================] - 9s 134ms/step - loss: 0.0567 - UAS: 0.9890 - LAS: 0.9805 - val_UAS: 0.9176 - val_LAS: 0.8727\n",
      "Epoch 66/80\n",
      "70/70 [==============================] - 9s 128ms/step - loss: 0.0567 - UAS: 0.9888 - LAS: 0.9806 - val_UAS: 0.9176 - val_LAS: 0.8731\n",
      "Epoch 67/80\n",
      "70/70 [==============================] - 10s 137ms/step - loss: 0.0544 - UAS: 0.9895 - LAS: 0.9814 - val_UAS: 0.9179 - val_LAS: 0.8735\n",
      "Epoch 68/80\n",
      "70/70 [==============================] - 9s 133ms/step - loss: 0.0558 - UAS: 0.9896 - LAS: 0.9814 - val_UAS: 0.9180 - val_LAS: 0.8736\n",
      "Epoch 69/80\n",
      "70/70 [==============================] - 9s 130ms/step - loss: 0.0586 - UAS: 0.9887 - LAS: 0.9805 - val_UAS: 0.9181 - val_LAS: 0.8735\n",
      "Epoch 70/80\n",
      "70/70 [==============================] - 9s 135ms/step - loss: 0.0550 - UAS: 0.9895 - LAS: 0.9810 - val_UAS: 0.9179 - val_LAS: 0.8734\n",
      "Epoch 71/80\n",
      "70/70 [==============================] - 9s 127ms/step - loss: 0.0575 - UAS: 0.9894 - LAS: 0.9806 - val_UAS: 0.9179 - val_LAS: 0.8734\n",
      "Epoch 72/80\n",
      "70/70 [==============================] - 9s 130ms/step - loss: 0.0573 - UAS: 0.9895 - LAS: 0.9806 - val_UAS: 0.9180 - val_LAS: 0.8734\n",
      "Epoch 73/80\n",
      "70/70 [==============================] - 9s 133ms/step - loss: 0.0563 - UAS: 0.9895 - LAS: 0.9811 - val_UAS: 0.9182 - val_LAS: 0.8735\n",
      "Epoch 74/80\n",
      "70/70 [==============================] - 9s 136ms/step - loss: 0.0561 - UAS: 0.9889 - LAS: 0.9805 - val_UAS: 0.9182 - val_LAS: 0.8735\n",
      "Epoch 75/80\n",
      "70/70 [==============================] - 9s 128ms/step - loss: 0.0548 - UAS: 0.9896 - LAS: 0.9812 - val_UAS: 0.9178 - val_LAS: 0.8733\n",
      "Epoch 76/80\n",
      "70/70 [==============================] - 9s 128ms/step - loss: 0.0534 - UAS: 0.9895 - LAS: 0.9812 - val_UAS: 0.9179 - val_LAS: 0.8735\n",
      "Epoch 77/80\n",
      "70/70 [==============================] - 9s 129ms/step - loss: 0.0535 - UAS: 0.9893 - LAS: 0.9811 - val_UAS: 0.9181 - val_LAS: 0.8735\n",
      "Epoch 78/80\n",
      "70/70 [==============================] - 9s 126ms/step - loss: 0.0551 - UAS: 0.9893 - LAS: 0.9807 - val_UAS: 0.9180 - val_LAS: 0.8733\n",
      "Epoch 79/80\n",
      "70/70 [==============================] - 9s 126ms/step - loss: 0.0549 - UAS: 0.9895 - LAS: 0.9813 - val_UAS: 0.9178 - val_LAS: 0.8730\n",
      "Epoch 80/80\n",
      "70/70 [==============================] - 9s 125ms/step - loss: 0.0568 - UAS: 0.9898 - LAS: 0.9811 - val_UAS: 0.9179 - val_LAS: 0.8732\n"
     ]
    },
    {
     "data": {
      "text/plain": [
       "<keras.src.callbacks.History at 0x7f5a398f2550>"
      ]
     },
     "execution_count": 47,
     "metadata": {},
     "output_type": "execute_result"
    }
   ],
   "source": [
    "model.fit(\n",
    "        train_data,\n",
    "        epochs=config.num_epochs,\n",
    "        validation_data=dev_data,\n",
    "        callbacks=[tensorboard_callback, biaffine_checkpoint],\n",
    "    )"
   ]
  },
  {
   "cell_type": "code",
   "execution_count": 48,
   "metadata": {},
   "outputs": [],
   "source": [
    "# mlflow.login()"
   ]
  },
  {
   "cell_type": "code",
   "execution_count": 49,
   "metadata": {},
   "outputs": [],
   "source": [
    "# mlflow.set_experiment(\"/dependency_parser\")\n",
    "# mlflow.tensorflow.autolog(disable=True)\n",
    "\n",
    "# with mlflow.start_run() as run:\n",
    "#     mlflow.log_params(params)\n",
    "    \n",
    "#     model.fit(\n",
    "#         train_data,\n",
    "#         epochs=config.num_epochs,\n",
    "#         validation_data=dev_data,\n",
    "#         callbacks=[tensorboard_callback, MLflowCallback(run), biaffine_checkpoint],\n",
    "#     )"
   ]
  },
  {
   "cell_type": "markdown",
   "metadata": {},
   "source": [
    "This is the final score on the test dataset:"
   ]
  },
  {
   "cell_type": "code",
   "execution_count": 50,
   "metadata": {},
   "outputs": [
    {
     "name": "stdout",
     "output_type": "stream",
     "text": [
      "UAS: 92.63\n",
      "LAS: 88.62\n"
     ]
    }
   ],
   "source": [
    "model.load_weights(\"./saved_model_weights/model_weights\")\n",
    "result = model.evaluate(test_data)\n",
    "print(f\"UAS: {result['UAS']*100:.2f}\\nLAS: {result['LAS']*100:.2f}\")\n",
    "\n",
    "test_log_dir = log_dir + \"/test\"\n",
    "test_summary_writer = tf.summary.create_file_writer(test_log_dir)\n",
    "\n",
    "with test_summary_writer.as_default():\n",
    "    tf.summary.scalar('test_UAS', result['UAS'], step=1)\n",
    "    tf.summary.scalar('test_LAS', result['LAS'], step=1)"
   ]
  },
  {
   "cell_type": "markdown",
   "metadata": {},
   "source": [
    "## <a id='toc2_7_'></a>[Experiments and Results](#toc0_)"
   ]
  },
  {
   "cell_type": "markdown",
   "metadata": {},
   "source": [
    "The model was tested on the Bulgarian UD treebank, and the results were evaluated using the Unlabeled Attachment Score (UAS) and Labeled Attachment Score (LAS). The UAS measures the percentage of words that are correctly attached to their head, while the LAS measures the percentage of words that are correctly attached to their head with the correct dependency relation. The model achieved a UAS of 92.25 and a LAS of 87.93 on the test dataset, indicating that it is capable of accurately predicting the dependency parse tree of a sentence."
   ]
  },
  {
   "cell_type": "markdown",
   "metadata": {},
   "source": [
    "The best scores seems to be achieved when the dropout rate is set to 0.5, which is more than the value reported by Dozat and Manning (2017). It could be explained by the fact that the Bulgarian UD treebank is smaller than the English UD treebank, and the model requires more regularization to prevent overfitting. Also, the Bulgarian morphological system is much more inflected than the English one. The learning rate decay also seems to be beneficial for the model's performance, as it allows the model to converge to a better solution. "
   ]
  },
  {
   "cell_type": "markdown",
   "metadata": {},
   "source": [
    "In the log folder created during the training process, the TensorBoard logs are stored. These logs can be visualized using the TensorBoard tool. The logs include information about the loss, UAS, and LAS metrics, as well as the hyperparameters of the model. The logs can be used to compare different models and hyperparameters, identify potential issues, and monitor the training process."
   ]
  },
  {
   "cell_type": "markdown",
   "metadata": {},
   "source": [
    "The experiments conducted thus far have enhanced the model's performance, yet there remains potential for further improvement. The model's hyperparameters, such as the optimizer's initial learning rate, adam_beta_2, and the number of LSTM and MLP layers, should be further fine-tuned to yield better results.\n",
    "\n",
    "Additionally, the model's architecture could be modified to incorporate extra features. For instance, character-level embeddings and lemmatization could be included to further boost performance."
   ]
  },
  {
   "cell_type": "code",
   "execution_count": null,
   "metadata": {},
   "outputs": [
    {
     "data": {
      "text/html": [
       "\n",
       "      <iframe id=\"tensorboard-frame-391a3ba3a8a14f62\" width=\"100%\" height=\"800\" frameborder=\"0\">\n",
       "      </iframe>\n",
       "      <script>\n",
       "        (function() {\n",
       "          const frame = document.getElementById(\"tensorboard-frame-391a3ba3a8a14f62\");\n",
       "          const url = new URL(\"/\", window.location);\n",
       "          const port = 6006;\n",
       "          if (port) {\n",
       "            url.port = port;\n",
       "          }\n",
       "          frame.src = url;\n",
       "        })();\n",
       "      </script>\n",
       "    "
      ],
      "text/plain": [
       "<IPython.core.display.HTML object>"
      ]
     },
     "metadata": {},
     "output_type": "display_data"
    }
   ],
   "source": [
    "%tensorboard --logdir logs"
   ]
  },
  {
   "cell_type": "markdown",
   "metadata": {},
   "source": [
    "## <a id='toc2_8_'></a>[Predictions](#toc0_)"
   ]
  },
  {
   "cell_type": "markdown",
   "metadata": {},
   "source": [
    "Firstly, the model state from the training epoch with the best validation accuracy will be loaded. The custom `BiaffineAttentionModelCheckpoint` callback saves the model at the end of each epoch if the monitored metrics improve. However, when using custom objects such as a custom loss function or a custom layer, the code for these objects isn't saved along with the model. Only the names of these objects are saved. When loading the model, Keras needs to know how to recreate these custom objects. This is why they must be provided via the `custom_objects` argument of `load_model`."
   ]
  },
  {
   "cell_type": "code",
   "execution_count": null,
   "metadata": {},
   "outputs": [
    {
     "name": "stderr",
     "output_type": "stream",
     "text": [
      "2024-04-17 10:20:12.519388: W tensorflow/core/common_runtime/graph_constructor.cc:840] Node 'while' has 11 outputs but the _output_shapes attribute specifies shapes for 27 outputs. Output shapes may be inaccurate.\n",
      "2024-04-17 10:20:12.583543: W tensorflow/core/common_runtime/graph_constructor.cc:840] Node 'while' has 11 outputs but the _output_shapes attribute specifies shapes for 27 outputs. Output shapes may be inaccurate.\n",
      "2024-04-17 10:20:12.948719: W tensorflow/core/common_runtime/graph_constructor.cc:840] Node 'while' has 11 outputs but the _output_shapes attribute specifies shapes for 27 outputs. Output shapes may be inaccurate.\n",
      "2024-04-17 10:20:13.480222: W tensorflow/core/common_runtime/graph_constructor.cc:840] Node 'while' has 11 outputs but the _output_shapes attribute specifies shapes for 27 outputs. Output shapes may be inaccurate.\n",
      "2024-04-17 10:20:14.800028: W tensorflow/core/common_runtime/graph_constructor.cc:840] Node 'while' has 11 outputs but the _output_shapes attribute specifies shapes for 27 outputs. Output shapes may be inaccurate.\n",
      "2024-04-17 10:20:15.640447: W tensorflow/core/common_runtime/graph_constructor.cc:840] Node 'while' has 11 outputs but the _output_shapes attribute specifies shapes for 27 outputs. Output shapes may be inaccurate.\n"
     ]
    }
   ],
   "source": [
    "best_model = load_model(\n",
    "    \"model\",\n",
    "    custom_objects={\n",
    "        \"BiaffineLayer\": BiaffineLayer,\n",
    "        \"BiaffineAttentionModel\": BiaffineAttentionModel,\n",
    "        \"loss_function\": BiaffineAttentionModel.loss_function\n",
    "    },\n",
    ")"
   ]
  },
  {
   "cell_type": "markdown",
   "metadata": {},
   "source": [
    "Tokenizing the input sentences and converting them to a numerical representation, consistent with the training data, is necessary for the model to process them."
   ]
  },
  {
   "cell_type": "markdown",
   "metadata": {},
   "source": [
    "#### <a id='toc2_8_1_1_'></a>[Tokenization](#toc0_)"
   ]
  },
  {
   "cell_type": "markdown",
   "metadata": {},
   "source": [
    "While the tokenization of Bulgarian UD is performed by the rule-based <a href=\"https://github.com/clarinsi/reldi-tokeniser\">reldi_tokeniser</a>, it does not support part-of-speech (POS) tagging. This is a crucial requirement for the `BiaffineAttentionModel`, which needs both POS tags and tokens as input. Therefore, <a href=\"https://github.com/clarinsi/classla/tree/master?tab=readme-ov-file\">CLASSLA</a> is used instead. CLASSLA is a fork of <a href=\"https://stanfordnlp.github.io/stanza/\">Stanza</a>, designed for processing South Slavic languages, including Bulgarian, and importantly, it supports POS tagging. Before using CLASSLA, the necessary resources need to be downloaded:"
   ]
  },
  {
   "cell_type": "code",
   "execution_count": null,
   "metadata": {},
   "outputs": [
    {
     "name": "stderr",
     "output_type": "stream",
     "text": [
      "Downloading https://raw.githubusercontent.com/clarinsi/classla-resources/main/resources_1.0.1.json: 10.3kB [00:00, 12.9MB/s]                   \n",
      "2024-04-17 10:20:18 INFO: Downloading these customized packages for language: bg (Bulgarian)...\n",
      "========================\n",
      "| Processor | Package  |\n",
      "------------------------\n",
      "| tokenize  | standard |\n",
      "| pos       | standard |\n",
      "| lemma     | standard |\n",
      "| depparse  | standard |\n",
      "| ner       | standard |\n",
      "| pretrain  | standard |\n",
      "========================\n",
      "\n",
      "INFO:classla:Downloading these customized packages for language: bg (Bulgarian)...\n",
      "========================\n",
      "| Processor | Package  |\n",
      "------------------------\n",
      "| tokenize  | standard |\n",
      "| pos       | standard |\n",
      "| lemma     | standard |\n",
      "| depparse  | standard |\n",
      "| ner       | standard |\n",
      "| pretrain  | standard |\n",
      "========================\n",
      "\n",
      "2024-04-17 10:20:20 INFO: File exists: ./classla_resources/bg/pos/standard.pt.\n",
      "INFO:classla:File exists: ./classla_resources/bg/pos/standard.pt.\n",
      "2024-04-17 10:20:21 INFO: File exists: ./classla_resources/bg/lemma/standard.pt.\n",
      "INFO:classla:File exists: ./classla_resources/bg/lemma/standard.pt.\n",
      "2024-04-17 10:20:22 INFO: File exists: ./classla_resources/bg/depparse/standard.pt.\n",
      "INFO:classla:File exists: ./classla_resources/bg/depparse/standard.pt.\n",
      "2024-04-17 10:20:22 INFO: File exists: ./classla_resources/bg/ner/standard.pt.\n",
      "INFO:classla:File exists: ./classla_resources/bg/ner/standard.pt.\n",
      "2024-04-17 10:20:23 INFO: File exists: ./classla_resources/bg/pretrain/standard.pt.\n",
      "INFO:classla:File exists: ./classla_resources/bg/pretrain/standard.pt.\n",
      "2024-04-17 10:20:23 INFO: Finished downloading models and saved to ./classla_resources.\n",
      "INFO:classla:Finished downloading models and saved to ./classla_resources.\n"
     ]
    }
   ],
   "source": [
    "classla.download('bg', dir='./classla_resources')"
   ]
  },
  {
   "cell_type": "markdown",
   "metadata": {},
   "source": [
    "The `classla` package offers several processors, including one for dependency parsing. However, only two of them - the tokenizer and the part-of-speech tagger - will be utilized in this context. These models are saved in an object of the `classla.pipeline.core.Pipeline` class, which is used to process the input sentences."
   ]
  },
  {
   "cell_type": "code",
   "execution_count": null,
   "metadata": {},
   "outputs": [
    {
     "name": "stderr",
     "output_type": "stream",
     "text": [
      "2024-04-17 10:20:23 INFO: Loading these models for language: bg (Bulgarian):\n",
      "========================\n",
      "| Processor | Package  |\n",
      "------------------------\n",
      "| tokenize  | standard |\n",
      "| pos       | standard |\n",
      "========================\n",
      "\n",
      "INFO:classla:Loading these models for language: bg (Bulgarian):\n",
      "========================\n",
      "| Processor | Package  |\n",
      "------------------------\n",
      "| tokenize  | standard |\n",
      "| pos       | standard |\n",
      "========================\n",
      "\n",
      "2024-04-17 10:20:23 INFO: Use device: gpu\n",
      "INFO:classla:Use device: gpu\n",
      "2024-04-17 10:20:23 INFO: Loading: tokenize\n",
      "INFO:classla:Loading: tokenize\n",
      "2024-04-17 10:20:23 INFO: Loading: pos\n",
      "INFO:classla:Loading: pos\n",
      "2024-04-17 10:20:28 INFO: Done loading processors!\n",
      "INFO:classla:Done loading processors!\n"
     ]
    }
   ],
   "source": [
    "nlp = classla.Pipeline('bg', processors='tokenize,pos', dir='./classla_resources')"
   ]
  },
  {
   "cell_type": "markdown",
   "metadata": {},
   "source": [
    "#### <a id='toc2_8_1_2_'></a>[Text to CoNLL-U](#toc0_)"
   ]
  },
  {
   "cell_type": "markdown",
   "metadata": {},
   "source": [
    "The `predict_text` function accepts a text input and predicts its dependency parsing structure using the trained model. The input text string undergoes processing via the `nlp` pipeline, resulting in tokenization and assignment of part-of-speech tags to each token. These words and tags are then mapped to their corresponding IDs, as defined by `token2id` and `upos2id` respectively. Each sequence of word and part-of-speech tag IDs is padded to the defined maximum length, with zeros added at the end if necessary. These padded sequences are fed into the model, which generates tensors containing predictions for the head of each word and the type of dependency relation. Postprocessing is applied to each sentence to find the predicted head and relation type for each word (as detailed in the function comments). The function converts the predicted relation IDs back to strings, constructs a CoNLL-U formatted string for each sentence, and returns a list of these CoNLL-U formatted strings, one for each sentence in the input text."
   ]
  },
  {
   "cell_type": "code",
   "execution_count": null,
   "metadata": {},
   "outputs": [],
   "source": [
    "def predict_text(text):\n",
    "    doc = nlp(text)\n",
    "    \n",
    "    words_as_str = []\n",
    "    upos_as_str = []\n",
    "    words = []\n",
    "    upos_mapped = []\n",
    "    lengths = []\n",
    "\n",
    "    for sentence in doc.sentences:\n",
    "        sentence_words = [word.text for word in sentence.words]\n",
    "        sentence_upos = [word.upos for word in sentence.words]\n",
    "        words_as_str.append(sentence_words)\n",
    "        upos_as_str.append(sentence_upos)\n",
    "\n",
    "        sentence_words_ids = [1] + [token2id[tf.constant(word)] for word in sentence_words]\n",
    "        words.append(sentence_words_ids)\n",
    "\n",
    "        sentence_upos_ids = [1] + [upos2id[str2upos[tf.constant(upos)]] for upos in sentence_upos]\n",
    "        upos_mapped.append(sentence_upos_ids)\n",
    "\n",
    "        lengths.append(len(sentence.words) + 1)\n",
    "\n",
    "    padded_words = tf.keras.preprocessing.sequence.pad_sequences(words, padding=\"post\", truncating=\"post\", maxlen=config.padding_size)\n",
    "    padded_upos = tf.keras.preprocessing.sequence.pad_sequences(upos_mapped, padding=\"post\", truncating=\"post\", maxlen=config.padding_size)\n",
    "\n",
    "    predictions = model.predict((padded_words, padded_upos))\n",
    "\n",
    "    sentences = []\n",
    "    for i, _ in enumerate(doc.sentences):\n",
    "        # Get the arc and relation predictions for the current sentence\n",
    "        arc_predictions, rel_predictions = predictions[0][i], predictions[1][i]\n",
    "\n",
    "        # For the arc predictions, find the maximum value in each row\n",
    "        # This gives the predicted head for each word\n",
    "        arc_head = tf.argmax(arc_predictions, axis=-1, output_type=tf.int32)\n",
    "\n",
    "        # For the relation predictions, first find the maximum value in the last dimension\n",
    "        # This gives the predicted relation for each word pair\n",
    "        rel_argmax = tf.argmax(rel_predictions, axis=-1, output_type=tf.int32)\n",
    "\n",
    "        # Predicted heads are used to select the predicted relation for each word\n",
    "        indices = tf.stack([tf.range(tf.shape(arc_head)[0], dtype=tf.int32), arc_head], axis=-1)\n",
    "        rel_type = tf.gather_nd(rel_argmax, indices)\n",
    "\n",
    "        # Apply mask for the current sentence to remove padding tokens\n",
    "        mask = tf.sequence_mask(lengths[i], tf.shape(padded_words)[1])\n",
    "        arc_head_masked = tf.boolean_mask(arc_head, mask)\n",
    "        rel_type_masked = tf.boolean_mask(rel_type, mask)\n",
    "\n",
    "        s_tokens = words_as_str[i]\n",
    "        s_upos = upos_as_str[i]\n",
    "        \n",
    "        # Remove the <ROOT> token\n",
    "        arc_heads = arc_head_masked[1:]\n",
    "        # Convert the predicted relation ids to strings and remove the <ROOT> token\n",
    "        rel_types = [id2deprel[x].numpy().decode('utf-8') for x in rel_type_masked][1:] \n",
    "        \n",
    "        conllu_lines = [f\"{j+1}\\t{token}\\t_\\t{upos}\\t_\\t_\\t{arc_head}\\t{rel_type}\\t_\\t_\"\n",
    "                        for j, (token, upos, arc_head, rel_type) in enumerate(zip(s_tokens, s_upos, arc_heads, rel_types))]\n",
    "        sentences.append(\"\\n\".join(conllu_lines))\n",
    "\n",
    "    return sentences"
   ]
  },
  {
   "cell_type": "markdown",
   "metadata": {},
   "source": [
    "#### <a id='toc2_8_1_3_'></a>[Visualization](#toc0_)"
   ]
  },
  {
   "cell_type": "markdown",
   "metadata": {},
   "source": [
    "For visualizing the dependency parse tree, a modified version of a <a href=\"https://github.com/explosion/spaCy/discussions/1215\">code proposed in the spaCy GitHub repository</a> is utilized. This code converts CoNLL-U to a displaCy treebank."
   ]
  },
  {
   "cell_type": "code",
   "execution_count": null,
   "metadata": {},
   "outputs": [],
   "source": [
    "                           \n",
    "def conll_u_string2displacy_json(conll_u_sent_string): \n",
    "\n",
    "    conll_u_lines = [line for line in conll_u_sent_string.split(\"\\n\") \\\n",
    "                     if line[0].isnumeric()]\n",
    "\n",
    "    displacy_json = {\"arcs\": [], \"words\": []}\n",
    "    for tabbed_line in conll_u_lines:\n",
    "\n",
    "        word_line = {}\n",
    "        word_line[\"id\"], word_line[\"form\"], word_line[\"lemma\"], \\\n",
    "        word_line[\"upostag\"], word_line[\"xpostag\"], word_line[\"feats\"], \\\n",
    "        word_line[\"head\"], word_line[\"deprel\"], word_line[\"deps\"], \\\n",
    "        word_line[\"misc\"] = tabbed_line.split(\"\\t\")\n",
    "\n",
    "        # CONLLU numbering starts at 1, displaCy's at 0...\n",
    "        word_line[\"id\"] = str(int(word_line[\"id\"]) - 1)\n",
    "        if word_line[\"head\"] != \"_\":\n",
    "            word_line[\"head\"] = str(int(word_line[\"head\"]) - 1)       \n",
    "        \n",
    "        if word_line[\"deprel\"] != \"root\" and word_line[\"head\"] != \"_\":\n",
    "            # Displacy's 'start' value is the lowest value amongst the ID and HEAD values,\n",
    "            # and the 'end' is always the highest. 'Start' and 'End' have nothing to do\n",
    "            # with dependency which is indicated by the arrow direction, not the line direction.\n",
    "            word_line[\"start\"] = min([int(word_line[\"id\"]), int(word_line[\"head\"])])\n",
    "            word_line[\"end\"] = max([int(word_line[\"id\"]), int(word_line[\"head\"])])\n",
    "\n",
    "            # Sets the orientation of the arrow that notes the direction of the dependency between the two units.\n",
    "            if int(word_line[\"id\"]) > int(word_line[\"head\"]):\n",
    "                word_line[\"dir\"] = \"right\"\n",
    "            elif int(word_line[\"id\"]) < int(word_line[\"head\"]):\n",
    "                word_line[\"dir\"] = \"left\"\n",
    "\n",
    "            displacy_json[\"arcs\"].append({\"dir\": word_line[\"dir\"],\n",
    "                                          \"end\": word_line[\"end\"],\n",
    "                                          \"label\": word_line[\"deprel\"],\n",
    "                                          \"start\": word_line[\"start\"]})\n",
    "            \n",
    "        displacy_json[\"words\"].append({\"tag\": word_line[\"upostag\"],\n",
    "                                       \"text\": word_line[\"form\"]})\n",
    "\n",
    "    return displacy_json"
   ]
  },
  {
   "cell_type": "markdown",
   "metadata": {},
   "source": [
    "The `predict_sentences` function allows the user to input one or more sentences in Bulgarian. It then uses the `predict_text` function to generate dependency parsing predictions for these sentences in the CoNLL-U format. To prevent memory overload when more than one sentence is entered, the function prompts the user to select a single sentence for visualization. The chosen sentence undergoes conversion to a format suitable for visualization with the `displacy` module from the `spacy` library. Consequently, the dependency structure of the sentence is displayed."
   ]
  },
  {
   "cell_type": "code",
   "execution_count": null,
   "metadata": {},
   "outputs": [],
   "source": [
    "def predict_sentences():\n",
    "    sentences = input(\"Please enter a sentence or sentences in Bulgarian: \")\n",
    "    sentences_in_conllu = predict_text(sentences)\n",
    "    idx = 1\n",
    "    if len(sentences_in_conllu) > 1:\n",
    "        print(f\"You've entered {len(sentences_in_conllu)} sentences. Which one would you like to visualize?\")\n",
    "        print(f\"Please enter a number between 1 and {len(sentences_in_conllu)}:\")\n",
    "        while True:\n",
    "            try:\n",
    "                idx = int(input())\n",
    "                if 0 < idx <= len(sentences_in_conllu):\n",
    "                    break\n",
    "                else:\n",
    "                    print(f\"Please enter a number between 1 and {len(sentences_in_conllu)}:\")\n",
    "            except ValueError:\n",
    "                print(f\"Please enter a number between 1 and {len(sentences_in_conllu)}:\")\n",
    "    sentence_to_display = conll_u_string2displacy_json(sentences_in_conllu[idx-1])\n",
    "    displacy.render(sentence_to_display, manual=True, jupyter=True, style='dep', options={'distance': 120, \"arrow_spacing\": 12})\n",
    "    "
   ]
  },
  {
   "cell_type": "markdown",
   "metadata": {},
   "source": [
    "#### <a id='toc2_8_1_4_'></a>[Demo](#toc0_)"
   ]
  },
  {
   "cell_type": "markdown",
   "metadata": {},
   "source": [
    "By executing the next cell, the model can be tested on a few sentences."
   ]
  },
  {
   "cell_type": "code",
   "execution_count": null,
   "metadata": {},
   "outputs": [
    {
     "ename": "ValueError",
     "evalue": "in user code:\n\n    File \"/home/nasso/miniconda3/envs/dl/lib/python3.11/site-packages/keras/src/engine/training.py\", line 2440, in predict_function  *\n        return step_function(self, iterator)\n    File \"/home/nasso/miniconda3/envs/dl/lib/python3.11/site-packages/keras/src/engine/training.py\", line 2425, in step_function  **\n        outputs = model.distribute_strategy.run(run_step, args=(data,))\n    File \"/home/nasso/miniconda3/envs/dl/lib/python3.11/site-packages/keras/src/engine/training.py\", line 2413, in run_step  **\n        outputs = model.predict_step(data)\n    File \"/home/nasso/miniconda3/envs/dl/lib/python3.11/site-packages/keras/src/engine/training.py\", line 2381, in predict_step\n        return self(x, training=False)\n    File \"/home/nasso/miniconda3/envs/dl/lib/python3.11/site-packages/keras/src/utils/traceback_utils.py\", line 70, in error_handler\n        raise e.with_traceback(filtered_tb) from None\n    File \"/tmp/__autograph_generated_filew00vc6fp.py\", line 10, in tf__call\n        input_tokens, input_upos, input_lemmas, input_xpos = ag__.ld(inputs)\n\n    ValueError: Exception encountered when calling layer 'biaffine_attention_model' (type BiaffineAttentionModel).\n    \n    in user code:\n    \n        File \"/tmp/ipykernel_907/84138583.py\", line 142, in call  *\n            input_tokens, input_upos, input_lemmas, input_xpos = inputs\n    \n        ValueError: not enough values to unpack (expected 4, got 2)\n    \n    \n    Call arguments received by layer 'biaffine_attention_model' (type BiaffineAttentionModel):\n      • inputs=('tf.Tensor(shape=(None, 128), dtype=int32)', 'tf.Tensor(shape=(None, 128), dtype=int32)')\n",
     "output_type": "error",
     "traceback": [
      "\u001b[0;31m---------------------------------------------------------------------------\u001b[0m",
      "\u001b[0;31mValueError\u001b[0m                                Traceback (most recent call last)",
      "Cell \u001b[0;32mIn[55], line 4\u001b[0m\n\u001b[1;32m      1\u001b[0m \u001b[38;5;66;03m# Example sentences:\u001b[39;00m\n\u001b[1;32m      2\u001b[0m \u001b[38;5;66;03m# Две малки момчета играеха вчера в парка зад училището.\u001b[39;00m\n\u001b[1;32m      3\u001b[0m \u001b[38;5;66;03m# Това е тестово изречение. То е много кратко, а е важно да се тества моделът и с дълги изречения.\u001b[39;00m\n\u001b[0;32m----> 4\u001b[0m predict_sentences()\n",
      "Cell \u001b[0;32mIn[53], line 3\u001b[0m, in \u001b[0;36mpredict_sentences\u001b[0;34m()\u001b[0m\n\u001b[1;32m      1\u001b[0m \u001b[38;5;28;01mdef\u001b[39;00m \u001b[38;5;21mpredict_sentences\u001b[39m():\n\u001b[1;32m      2\u001b[0m     sentences \u001b[38;5;241m=\u001b[39m \u001b[38;5;28minput\u001b[39m(\u001b[38;5;124m\"\u001b[39m\u001b[38;5;124mPlease enter a sentence or sentences in Bulgarian: \u001b[39m\u001b[38;5;124m\"\u001b[39m)\n\u001b[0;32m----> 3\u001b[0m     sentences_in_conllu \u001b[38;5;241m=\u001b[39m predict_text(sentences)\n\u001b[1;32m      4\u001b[0m     idx \u001b[38;5;241m=\u001b[39m \u001b[38;5;241m1\u001b[39m\n\u001b[1;32m      5\u001b[0m     \u001b[38;5;28;01mif\u001b[39;00m \u001b[38;5;28mlen\u001b[39m(sentences_in_conllu) \u001b[38;5;241m>\u001b[39m \u001b[38;5;241m1\u001b[39m:\n",
      "Cell \u001b[0;32mIn[51], line 27\u001b[0m, in \u001b[0;36mpredict_text\u001b[0;34m(text)\u001b[0m\n\u001b[1;32m     24\u001b[0m padded_words \u001b[38;5;241m=\u001b[39m tf\u001b[38;5;241m.\u001b[39mkeras\u001b[38;5;241m.\u001b[39mpreprocessing\u001b[38;5;241m.\u001b[39msequence\u001b[38;5;241m.\u001b[39mpad_sequences(words, padding\u001b[38;5;241m=\u001b[39m\u001b[38;5;124m\"\u001b[39m\u001b[38;5;124mpost\u001b[39m\u001b[38;5;124m\"\u001b[39m, truncating\u001b[38;5;241m=\u001b[39m\u001b[38;5;124m\"\u001b[39m\u001b[38;5;124mpost\u001b[39m\u001b[38;5;124m\"\u001b[39m, maxlen\u001b[38;5;241m=\u001b[39mconfig\u001b[38;5;241m.\u001b[39mpadding_size)\n\u001b[1;32m     25\u001b[0m padded_upos \u001b[38;5;241m=\u001b[39m tf\u001b[38;5;241m.\u001b[39mkeras\u001b[38;5;241m.\u001b[39mpreprocessing\u001b[38;5;241m.\u001b[39msequence\u001b[38;5;241m.\u001b[39mpad_sequences(upos_mapped, padding\u001b[38;5;241m=\u001b[39m\u001b[38;5;124m\"\u001b[39m\u001b[38;5;124mpost\u001b[39m\u001b[38;5;124m\"\u001b[39m, truncating\u001b[38;5;241m=\u001b[39m\u001b[38;5;124m\"\u001b[39m\u001b[38;5;124mpost\u001b[39m\u001b[38;5;124m\"\u001b[39m, maxlen\u001b[38;5;241m=\u001b[39mconfig\u001b[38;5;241m.\u001b[39mpadding_size)\n\u001b[0;32m---> 27\u001b[0m predictions \u001b[38;5;241m=\u001b[39m model\u001b[38;5;241m.\u001b[39mpredict((padded_words, padded_upos))\n\u001b[1;32m     29\u001b[0m sentences \u001b[38;5;241m=\u001b[39m []\n\u001b[1;32m     30\u001b[0m \u001b[38;5;28;01mfor\u001b[39;00m i, _ \u001b[38;5;129;01min\u001b[39;00m \u001b[38;5;28menumerate\u001b[39m(doc\u001b[38;5;241m.\u001b[39msentences):\n\u001b[1;32m     31\u001b[0m     \u001b[38;5;66;03m# Get the arc and relation predictions for the current sentence\u001b[39;00m\n",
      "File \u001b[0;32m~/miniconda3/envs/dl/lib/python3.11/site-packages/keras/src/utils/traceback_utils.py:70\u001b[0m, in \u001b[0;36mfilter_traceback.<locals>.error_handler\u001b[0;34m(*args, **kwargs)\u001b[0m\n\u001b[1;32m     67\u001b[0m     filtered_tb \u001b[38;5;241m=\u001b[39m _process_traceback_frames(e\u001b[38;5;241m.\u001b[39m__traceback__)\n\u001b[1;32m     68\u001b[0m     \u001b[38;5;66;03m# To get the full stack trace, call:\u001b[39;00m\n\u001b[1;32m     69\u001b[0m     \u001b[38;5;66;03m# `tf.debugging.disable_traceback_filtering()`\u001b[39;00m\n\u001b[0;32m---> 70\u001b[0m     \u001b[38;5;28;01mraise\u001b[39;00m e\u001b[38;5;241m.\u001b[39mwith_traceback(filtered_tb) \u001b[38;5;28;01mfrom\u001b[39;00m \u001b[38;5;28;01mNone\u001b[39;00m\n\u001b[1;32m     71\u001b[0m \u001b[38;5;28;01mfinally\u001b[39;00m:\n\u001b[1;32m     72\u001b[0m     \u001b[38;5;28;01mdel\u001b[39;00m filtered_tb\n",
      "File \u001b[0;32m/tmp/__autograph_generated_filep2npfq9l.py:15\u001b[0m, in \u001b[0;36mouter_factory.<locals>.inner_factory.<locals>.tf__predict_function\u001b[0;34m(iterator)\u001b[0m\n\u001b[1;32m     13\u001b[0m \u001b[38;5;28;01mtry\u001b[39;00m:\n\u001b[1;32m     14\u001b[0m     do_return \u001b[38;5;241m=\u001b[39m \u001b[38;5;28;01mTrue\u001b[39;00m\n\u001b[0;32m---> 15\u001b[0m     retval_ \u001b[38;5;241m=\u001b[39m ag__\u001b[38;5;241m.\u001b[39mconverted_call(ag__\u001b[38;5;241m.\u001b[39mld(step_function), (ag__\u001b[38;5;241m.\u001b[39mld(\u001b[38;5;28mself\u001b[39m), ag__\u001b[38;5;241m.\u001b[39mld(iterator)), \u001b[38;5;28;01mNone\u001b[39;00m, fscope)\n\u001b[1;32m     16\u001b[0m \u001b[38;5;28;01mexcept\u001b[39;00m:\n\u001b[1;32m     17\u001b[0m     do_return \u001b[38;5;241m=\u001b[39m \u001b[38;5;28;01mFalse\u001b[39;00m\n",
      "File \u001b[0;32m/tmp/__autograph_generated_filew00vc6fp.py:10\u001b[0m, in \u001b[0;36mouter_factory.<locals>.inner_factory.<locals>.tf__call\u001b[0;34m(self, inputs)\u001b[0m\n\u001b[1;32m      8\u001b[0m do_return \u001b[38;5;241m=\u001b[39m \u001b[38;5;28;01mFalse\u001b[39;00m\n\u001b[1;32m      9\u001b[0m retval_ \u001b[38;5;241m=\u001b[39m ag__\u001b[38;5;241m.\u001b[39mUndefinedReturnValue()\n\u001b[0;32m---> 10\u001b[0m input_tokens, input_upos, input_lemmas, input_xpos \u001b[38;5;241m=\u001b[39m ag__\u001b[38;5;241m.\u001b[39mld(inputs)\n\u001b[1;32m     11\u001b[0m word_embedding \u001b[38;5;241m=\u001b[39m ag__\u001b[38;5;241m.\u001b[39mconverted_call(ag__\u001b[38;5;241m.\u001b[39mld(\u001b[38;5;28mself\u001b[39m)\u001b[38;5;241m.\u001b[39mword_embedding, (ag__\u001b[38;5;241m.\u001b[39mld(input_tokens),), \u001b[38;5;28;01mNone\u001b[39;00m, fscope)\n\u001b[1;32m     12\u001b[0m word_dropout \u001b[38;5;241m=\u001b[39m ag__\u001b[38;5;241m.\u001b[39mconverted_call(ag__\u001b[38;5;241m.\u001b[39mconverted_call(ag__\u001b[38;5;241m.\u001b[39mld(Dropout), (ag__\u001b[38;5;241m.\u001b[39mld(\u001b[38;5;28mself\u001b[39m)\u001b[38;5;241m.\u001b[39mconfig\u001b[38;5;241m.\u001b[39membedding_dropout,), \u001b[38;5;28mdict\u001b[39m(name\u001b[38;5;241m=\u001b[39m\u001b[38;5;124m'\u001b[39m\u001b[38;5;124mword_dropout\u001b[39m\u001b[38;5;124m'\u001b[39m), fscope), (ag__\u001b[38;5;241m.\u001b[39mld(word_embedding),), \u001b[38;5;28;01mNone\u001b[39;00m, fscope)\n",
      "\u001b[0;31mValueError\u001b[0m: in user code:\n\n    File \"/home/nasso/miniconda3/envs/dl/lib/python3.11/site-packages/keras/src/engine/training.py\", line 2440, in predict_function  *\n        return step_function(self, iterator)\n    File \"/home/nasso/miniconda3/envs/dl/lib/python3.11/site-packages/keras/src/engine/training.py\", line 2425, in step_function  **\n        outputs = model.distribute_strategy.run(run_step, args=(data,))\n    File \"/home/nasso/miniconda3/envs/dl/lib/python3.11/site-packages/keras/src/engine/training.py\", line 2413, in run_step  **\n        outputs = model.predict_step(data)\n    File \"/home/nasso/miniconda3/envs/dl/lib/python3.11/site-packages/keras/src/engine/training.py\", line 2381, in predict_step\n        return self(x, training=False)\n    File \"/home/nasso/miniconda3/envs/dl/lib/python3.11/site-packages/keras/src/utils/traceback_utils.py\", line 70, in error_handler\n        raise e.with_traceback(filtered_tb) from None\n    File \"/tmp/__autograph_generated_filew00vc6fp.py\", line 10, in tf__call\n        input_tokens, input_upos, input_lemmas, input_xpos = ag__.ld(inputs)\n\n    ValueError: Exception encountered when calling layer 'biaffine_attention_model' (type BiaffineAttentionModel).\n    \n    in user code:\n    \n        File \"/tmp/ipykernel_907/84138583.py\", line 142, in call  *\n            input_tokens, input_upos, input_lemmas, input_xpos = inputs\n    \n        ValueError: not enough values to unpack (expected 4, got 2)\n    \n    \n    Call arguments received by layer 'biaffine_attention_model' (type BiaffineAttentionModel):\n      • inputs=('tf.Tensor(shape=(None, 128), dtype=int32)', 'tf.Tensor(shape=(None, 128), dtype=int32)')\n"
     ]
    }
   ],
   "source": [
    "# Example sentences:\n",
    "# Две малки момчета играеха вчера в парка зад училището.\n",
    "# Това е тестово изречение. То е много кратко, а е важно да се тества моделът и с дълги изречения.\n",
    "predict_sentences()"
   ]
  },
  {
   "cell_type": "markdown",
   "metadata": {},
   "source": [
    "## <a id='toc2_9_'></a>[Future Work](#toc0_)"
   ]
  },
  {
   "cell_type": "markdown",
   "metadata": {},
   "source": [
    "The model performs well on the Bulgarian UD treebank and its results are near the state-of-art parsers, but it can be further improved. The following are some potential areas for improvement:\n",
    "- **Hyperparameter tuning**: The model's hyperparameters can be further optimized to improve its performance. This includes (but not restricted to) the learning rate, the number of layers in the BiLSTM, the number of units in the MLPs, and the dropout rate.\n",
    "- **Additional inputs**: The model can be extended to accept additional inputs, such as lemmatized forms of the words, morphological features, and named entity recognition tags. These inputs can be used to improve the model's performance.\n",
    "- **Better embeddings**: The model can be improved by using better word embeddings, such as pre-trained word embeddings or contextual word embeddings. "
   ]
  },
  {
   "cell_type": "markdown",
   "metadata": {},
   "source": [
    "## <a id='toc2_10_'></a>[Conclusion](#toc0_)\n",
    "The project has successfully implemented a neural network-based dependency parser using TensorFlow and Keras. The parser was trained and evaluated on the Bulgarian Universal Dependencies dataset. The parser achieved competitive results, demonstrating the effectiveness of the proposed architecture. The original model of Dozat and Manning is evaluated on much larger datasets and on laguages with simpler morphological structure, but the results are comparable (for example, better scores than tahe original model shows for Chinese, and near the results for Czech, which has one of the biggest treebanks). The parser can be used to predict the dependency parsing structure of Bulgarian sentences, and the predictions can be visualized using the `displacy` module from the `spacy` library. The parser can be further improved by optimizing its hyperparameters, adding additional inputs, and using better word embeddings."
   ]
  },
  {
   "cell_type": "markdown",
   "metadata": {},
   "source": [
    "## <a id='toc2_11_'></a>[References](#toc0_)\n",
    "1. <a id=\"ref-1\"></a> Dozat, T., & Manning, C. D. (2017). [Deep Biaffine Attention for Neural Dependency Parsing](https://openreview.net/forum?id=Hk95PK9le). In _International Conference on Learning Representations_.    \n",
    "2. <a id=\"ref-2\"></a> Kiperwasser, E., & Goldberg, Y. (2016). [Simple and accurate dependency parsing using bidirectional LSTM feature representations](https://aclanthology.org/Q16-1023/). In _Transactions of the Association for Computational Linguistics_, 4, 313-327. MIT Press.\n",
    "3. <a id=\"ref-4\"></a> Kingma, D. P., & Ba, J. (2014). [Adam: A method for stochastic optimization](https://arxiv.org/abs/1412.6980). _arXiv preprint arXiv:1412.6980_.\n",
    "4. <a id=\"ref-3\"></a> GitHub Repositories:\n",
    "   - [https://github.com/rmodi6/dependency-parsing/tree/master](https://github.com/rmodi6/dependency-parsing/tree/master)\n",
    "   - [https://github.com/chantera/biaffineparser](https://github.com/chantera/biaffineparser)\n",
    "   - [https://github.com/codogogo/towerparse/tree/main](https://github.com/codogogo/towerparse/tree/main)\n",
    "   - [https://github.com/dwdb/dependency-parser](https://github.com/dwdb/dependency-parser)\n",
    "   - [https://github.com/Impavidity/Biaffine-Parsing-Pytorch/tree/master](https://github.com/Impavidity/Biaffine-Parsing-Pytorch/tree/master)\n",
    "   - [https://github.com/Unipisa/diaparser/tree/master](https://github.com/Unipisa/diaparser/tree/master)"
   ]
  }
 ],
 "metadata": {
  "kernelspec": {
   "display_name": "Python 3 (ipykernel)",
   "language": "python",
   "name": "python3"
  },
  "language_info": {
   "codemirror_mode": {
    "name": "ipython",
    "version": 3
   },
   "file_extension": ".py",
   "mimetype": "text/x-python",
   "name": "python",
   "nbconvert_exporter": "python",
   "pygments_lexer": "ipython3",
   "version": "3.11.7"
  }
 },
 "nbformat": 4,
 "nbformat_minor": 4
}
